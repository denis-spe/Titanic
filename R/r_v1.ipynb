{
 "cells": [
  {
   "cell_type": "markdown",
   "id": "f8b3393e",
   "metadata": {},
   "source": [
    "# **Predicting Passenger Survivor**\n",
    "****"
   ]
  },
  {
   "cell_type": "markdown",
   "id": "d8a7a50e",
   "metadata": {},
   "source": [
    "**Table content**\n",
    "* **About Data**\n",
    "* **Import Libraries**\n",
    "* **load Datasets**\n",
    "* **Explorer Datasets**\n",
    "* **Data Split**\n",
    "* **Data Cleaning**\n",
    "* **Data Visualization**\n",
    "* **Choose Model**\n",
    "* **Fit Models**\n",
    "* **Evaluate Model**\n",
    "* **Fine The Model**"
   ]
  },
  {
   "cell_type": "markdown",
   "id": "0dc96fc5",
   "metadata": {},
   "source": [
    "## **About Data**\n",
    "RMS Titanic was a British passenger liner, operated by the White Star Line, which sank in the North Atlantic Ocean on 15 April 1912 after striking an iceberg. for more info click <a href='https://en.wikipedia.org/wiki/Titanic' style='text-decoration:none'>here</a>"
   ]
  },
  {
   "cell_type": "markdown",
   "id": "521fa9f6",
   "metadata": {},
   "source": [
    "<pre style=\"font-family: 'Brush Script MT', cursive, serif;\">\n",
    "<h3 style='font-size: 12'>Defination Of Feature Columns</h3>\n",
    "<b>Survived:</b> Passager Survived \n",
    "0 = No \n",
    "1 = Yes\n",
    "<b>Embarked:</b> Port of Embarkation \n",
    "C = Cherbourg\n",
    "Q = Queenstown\n",
    "S = Southampton\n",
    "<b>Pclass:</b> ticket class\n",
    "A proxy for socio-economic status (SES)\n",
    "1st = Upper\n",
    "2nd = Middle\n",
    "3rd = Lower\n",
    "<b>Sex:</b> passenger sex\n",
    "<b>Age:</b> Age in years\n",
    "Age is fractional if less than 1. \n",
    "If the age is estimated, is it in the form of xx.5\n",
    "<b>Sibsp:</b> of siblings / spouses aboard the Titanic\n",
    "The dataset defines family relations in this way...\n",
    "Sibling = brother, sister, stepbrother, stepsister\n",
    "Spouse = husband, wife (mistresses and fiancés were ignored)\n",
    "<b>Parch:</b> of parents / children aboard the Titanic.\n",
    "The dataset defines family relations in this way...\n",
    "Parent = mother, father\n",
    "Child = daughter, son, stepdaughter, stepson\n",
    "Some children travelled only with a nanny, therefore parch=0 for them.\n",
    "<b>Ticket:</b> ticket number\n",
    "<b>Fare:</b> fare paid for a ticket\n",
    "<b>cabin:</b> Cabin number\n",
    "</pre>"
   ]
  },
  {
   "cell_type": "markdown",
   "id": "321f1b0c",
   "metadata": {},
   "source": [
    "## **Import Libraries**"
   ]
  },
  {
   "cell_type": "code",
   "execution_count": 3,
   "id": "e46d920c",
   "metadata": {
    "vscode": {
     "languageId": "r"
    }
   },
   "outputs": [],
   "source": [
    "library(tidyverse)\n",
    "library(tidymodels)\n",
    "library(mice)\n",
    "library(ggthemes)\n",
    "library(corrplot)"
   ]
  },
  {
   "cell_type": "markdown",
   "id": "e4894f4d",
   "metadata": {},
   "source": [
    "## **Load Datasets**"
   ]
  },
  {
   "cell_type": "code",
   "execution_count": 4,
   "id": "b3bfc6b3",
   "metadata": {
    "vscode": {
     "languageId": "r"
    }
   },
   "outputs": [],
   "source": [
    "load_data <- function(train_path, test_path) {\n",
    "    # Instantiate the train dataframe\n",
    "    train_df <- readr::read_csv(train_path)\n",
    "\n",
    "    # Instantiate the test dataframe\n",
    "    test_df <- readr::read_csv(test_path)\n",
    "\n",
    "    return(list(train = train_df, test = test_df))\n",
    "}"
   ]
  },
  {
   "cell_type": "code",
   "execution_count": 5,
   "id": "9cae1c06",
   "metadata": {
    "vscode": {
     "languageId": "r"
    }
   },
   "outputs": [
    {
     "name": "stderr",
     "output_type": "stream",
     "text": [
      "Parsed with column specification:\n",
      "cols(\n",
      "  PassengerId = col_double(),\n",
      "  Survived = col_double(),\n",
      "  Pclass = col_double(),\n",
      "  Name = col_character(),\n",
      "  Sex = col_character(),\n",
      "  Age = col_double(),\n",
      "  SibSp = col_double(),\n",
      "  Parch = col_double(),\n",
      "  Ticket = col_character(),\n",
      "  Fare = col_double(),\n",
      "  Cabin = col_character(),\n",
      "  Embarked = col_character()\n",
      ")\n",
      "Parsed with column specification:\n",
      "cols(\n",
      "  PassengerId = col_double(),\n",
      "  Pclass = col_double(),\n",
      "  Name = col_character(),\n",
      "  Sex = col_character(),\n",
      "  Age = col_double(),\n",
      "  SibSp = col_double(),\n",
      "  Parch = col_double(),\n",
      "  Ticket = col_character(),\n",
      "  Fare = col_double(),\n",
      "  Cabin = col_character(),\n",
      "  Embarked = col_character()\n",
      ")\n"
     ]
    }
   ],
   "source": [
    "# Initialize the data path\n",
    "train_path <- \"../datasets/train.csv\"\n",
    "test_path <- \"../datasets/test.csv\"\n",
    "\n",
    "# Assign datasets to vector of dataframe\n",
    "datasets <- load_data(train_path, test_path)\n",
    "\n",
    "# Instantiate train and test dataframe\n",
    "train_df <- datasets$train\n",
    "test_df <- datasets$test"
   ]
  },
  {
   "cell_type": "markdown",
   "id": "41e3b17b",
   "metadata": {},
   "source": [
    "## **Explorer Datasets**"
   ]
  },
  {
   "cell_type": "markdown",
   "id": "1b64e669",
   "metadata": {},
   "source": [
    "### **Train And Test Dataframe**"
   ]
  },
  {
   "cell_type": "markdown",
   "id": "858c8033",
   "metadata": {},
   "source": [
    "#### **Train**"
   ]
  },
  {
   "cell_type": "code",
   "execution_count": 6,
   "id": "378c68bf",
   "metadata": {
    "vscode": {
     "languageId": "r"
    }
   },
   "outputs": [
    {
     "data": {
      "text/html": [
       "<table>\n",
       "<thead><tr><th scope=col>PassengerId</th><th scope=col>Survived</th><th scope=col>Pclass</th><th scope=col>Name</th><th scope=col>Sex</th><th scope=col>Age</th><th scope=col>SibSp</th><th scope=col>Parch</th><th scope=col>Ticket</th><th scope=col>Fare</th><th scope=col>Cabin</th><th scope=col>Embarked</th></tr></thead>\n",
       "<tbody>\n",
       "\t<tr><td>1                                                  </td><td>0                                                  </td><td>3                                                  </td><td>Braund, Mr. Owen Harris                            </td><td>male                                               </td><td>22                                                 </td><td>1                                                  </td><td>0                                                  </td><td>A/5 21171                                          </td><td> 7.2500                                            </td><td>NA                                                 </td><td>S                                                  </td></tr>\n",
       "\t<tr><td>2                                                  </td><td>1                                                  </td><td>1                                                  </td><td>Cumings, Mrs. John Bradley (Florence Briggs Thayer)</td><td>female                                             </td><td>38                                                 </td><td>1                                                  </td><td>0                                                  </td><td>PC 17599                                           </td><td>71.2833                                            </td><td>C85                                                </td><td>C                                                  </td></tr>\n",
       "\t<tr><td>3                                                  </td><td>1                                                  </td><td>3                                                  </td><td>Heikkinen, Miss. Laina                             </td><td>female                                             </td><td>26                                                 </td><td>0                                                  </td><td>0                                                  </td><td>STON/O2. 3101282                                   </td><td> 7.9250                                            </td><td>NA                                                 </td><td>S                                                  </td></tr>\n",
       "\t<tr><td>4                                                  </td><td>1                                                  </td><td>1                                                  </td><td>Futrelle, Mrs. Jacques Heath (Lily May Peel)       </td><td>female                                             </td><td>35                                                 </td><td>1                                                  </td><td>0                                                  </td><td>113803                                             </td><td>53.1000                                            </td><td>C123                                               </td><td>S                                                  </td></tr>\n",
       "\t<tr><td>5                                                  </td><td>0                                                  </td><td>3                                                  </td><td>Allen, Mr. William Henry                           </td><td>male                                               </td><td>35                                                 </td><td>0                                                  </td><td>0                                                  </td><td>373450                                             </td><td> 8.0500                                            </td><td>NA                                                 </td><td>S                                                  </td></tr>\n",
       "\t<tr><td>6                                                  </td><td>0                                                  </td><td>3                                                  </td><td>Moran, Mr. James                                   </td><td>male                                               </td><td>NA                                                 </td><td>0                                                  </td><td>0                                                  </td><td>330877                                             </td><td> 8.4583                                            </td><td>NA                                                 </td><td>Q                                                  </td></tr>\n",
       "</tbody>\n",
       "</table>\n"
      ],
      "text/latex": [
       "\\begin{tabular}{r|llllllllllll}\n",
       " PassengerId & Survived & Pclass & Name & Sex & Age & SibSp & Parch & Ticket & Fare & Cabin & Embarked\\\\\n",
       "\\hline\n",
       "\t 1                                                   & 0                                                   & 3                                                   & Braund, Mr. Owen Harris                             & male                                                & 22                                                  & 1                                                   & 0                                                   & A/5 21171                                           &  7.2500                                             & NA                                                  & S                                                  \\\\\n",
       "\t 2                                                   & 1                                                   & 1                                                   & Cumings, Mrs. John Bradley (Florence Briggs Thayer) & female                                              & 38                                                  & 1                                                   & 0                                                   & PC 17599                                            & 71.2833                                             & C85                                                 & C                                                  \\\\\n",
       "\t 3                                                   & 1                                                   & 3                                                   & Heikkinen, Miss. Laina                              & female                                              & 26                                                  & 0                                                   & 0                                                   & STON/O2. 3101282                                    &  7.9250                                             & NA                                                  & S                                                  \\\\\n",
       "\t 4                                                   & 1                                                   & 1                                                   & Futrelle, Mrs. Jacques Heath (Lily May Peel)        & female                                              & 35                                                  & 1                                                   & 0                                                   & 113803                                              & 53.1000                                             & C123                                                & S                                                  \\\\\n",
       "\t 5                                                   & 0                                                   & 3                                                   & Allen, Mr. William Henry                            & male                                                & 35                                                  & 0                                                   & 0                                                   & 373450                                              &  8.0500                                             & NA                                                  & S                                                  \\\\\n",
       "\t 6                                                   & 0                                                   & 3                                                   & Moran, Mr. James                                    & male                                                & NA                                                  & 0                                                   & 0                                                   & 330877                                              &  8.4583                                             & NA                                                  & Q                                                  \\\\\n",
       "\\end{tabular}\n"
      ],
      "text/markdown": [
       "\n",
       "| PassengerId | Survived | Pclass | Name | Sex | Age | SibSp | Parch | Ticket | Fare | Cabin | Embarked |\n",
       "|---|---|---|---|---|---|---|---|---|---|---|---|\n",
       "| 1                                                   | 0                                                   | 3                                                   | Braund, Mr. Owen Harris                             | male                                                | 22                                                  | 1                                                   | 0                                                   | A/5 21171                                           |  7.2500                                             | NA                                                  | S                                                   |\n",
       "| 2                                                   | 1                                                   | 1                                                   | Cumings, Mrs. John Bradley (Florence Briggs Thayer) | female                                              | 38                                                  | 1                                                   | 0                                                   | PC 17599                                            | 71.2833                                             | C85                                                 | C                                                   |\n",
       "| 3                                                   | 1                                                   | 3                                                   | Heikkinen, Miss. Laina                              | female                                              | 26                                                  | 0                                                   | 0                                                   | STON/O2. 3101282                                    |  7.9250                                             | NA                                                  | S                                                   |\n",
       "| 4                                                   | 1                                                   | 1                                                   | Futrelle, Mrs. Jacques Heath (Lily May Peel)        | female                                              | 35                                                  | 1                                                   | 0                                                   | 113803                                              | 53.1000                                             | C123                                                | S                                                   |\n",
       "| 5                                                   | 0                                                   | 3                                                   | Allen, Mr. William Henry                            | male                                                | 35                                                  | 0                                                   | 0                                                   | 373450                                              |  8.0500                                             | NA                                                  | S                                                   |\n",
       "| 6                                                   | 0                                                   | 3                                                   | Moran, Mr. James                                    | male                                                | NA                                                  | 0                                                   | 0                                                   | 330877                                              |  8.4583                                             | NA                                                  | Q                                                   |\n",
       "\n"
      ],
      "text/plain": [
       "  PassengerId Survived Pclass\n",
       "1 1           0        3     \n",
       "2 2           1        1     \n",
       "3 3           1        3     \n",
       "4 4           1        1     \n",
       "5 5           0        3     \n",
       "6 6           0        3     \n",
       "  Name                                                Sex    Age SibSp Parch\n",
       "1 Braund, Mr. Owen Harris                             male   22  1     0    \n",
       "2 Cumings, Mrs. John Bradley (Florence Briggs Thayer) female 38  1     0    \n",
       "3 Heikkinen, Miss. Laina                              female 26  0     0    \n",
       "4 Futrelle, Mrs. Jacques Heath (Lily May Peel)        female 35  1     0    \n",
       "5 Allen, Mr. William Henry                            male   35  0     0    \n",
       "6 Moran, Mr. James                                    male   NA  0     0    \n",
       "  Ticket           Fare    Cabin Embarked\n",
       "1 A/5 21171         7.2500 NA    S       \n",
       "2 PC 17599         71.2833 C85   C       \n",
       "3 STON/O2. 3101282  7.9250 NA    S       \n",
       "4 113803           53.1000 C123  S       \n",
       "5 373450            8.0500 NA    S       \n",
       "6 330877            8.4583 NA    Q       "
      ]
     },
     "metadata": {},
     "output_type": "display_data"
    }
   ],
   "source": [
    "# Check out the first six row in train data frame\n",
    "head(train_df)"
   ]
  },
  {
   "cell_type": "markdown",
   "id": "a21a8d22",
   "metadata": {},
   "source": [
    "#### **Test**"
   ]
  },
  {
   "cell_type": "code",
   "execution_count": 7,
   "id": "e8bdd924",
   "metadata": {
    "vscode": {
     "languageId": "r"
    }
   },
   "outputs": [
    {
     "data": {
      "text/html": [
       "<table>\n",
       "<thead><tr><th scope=col>PassengerId</th><th scope=col>Pclass</th><th scope=col>Name</th><th scope=col>Sex</th><th scope=col>Age</th><th scope=col>SibSp</th><th scope=col>Parch</th><th scope=col>Ticket</th><th scope=col>Fare</th><th scope=col>Cabin</th><th scope=col>Embarked</th></tr></thead>\n",
       "<tbody>\n",
       "\t<tr><td>892                                         </td><td>3                                           </td><td>Kelly, Mr. James                            </td><td>male                                        </td><td>34.5                                        </td><td>0                                           </td><td>0                                           </td><td>330911                                      </td><td> 7.8292                                     </td><td>NA                                          </td><td>Q                                           </td></tr>\n",
       "\t<tr><td>893                                         </td><td>3                                           </td><td>Wilkes, Mrs. James (Ellen Needs)            </td><td>female                                      </td><td>47.0                                        </td><td>1                                           </td><td>0                                           </td><td>363272                                      </td><td> 7.0000                                     </td><td>NA                                          </td><td>S                                           </td></tr>\n",
       "\t<tr><td>894                                         </td><td>2                                           </td><td>Myles, Mr. Thomas Francis                   </td><td>male                                        </td><td>62.0                                        </td><td>0                                           </td><td>0                                           </td><td>240276                                      </td><td> 9.6875                                     </td><td>NA                                          </td><td>Q                                           </td></tr>\n",
       "\t<tr><td>895                                         </td><td>3                                           </td><td>Wirz, Mr. Albert                            </td><td>male                                        </td><td>27.0                                        </td><td>0                                           </td><td>0                                           </td><td>315154                                      </td><td> 8.6625                                     </td><td>NA                                          </td><td>S                                           </td></tr>\n",
       "\t<tr><td>896                                         </td><td>3                                           </td><td>Hirvonen, Mrs. Alexander (Helga E Lindqvist)</td><td>female                                      </td><td>22.0                                        </td><td>1                                           </td><td>1                                           </td><td>3101298                                     </td><td>12.2875                                     </td><td>NA                                          </td><td>S                                           </td></tr>\n",
       "\t<tr><td>897                                         </td><td>3                                           </td><td>Svensson, Mr. Johan Cervin                  </td><td>male                                        </td><td>14.0                                        </td><td>0                                           </td><td>0                                           </td><td>7538                                        </td><td> 9.2250                                     </td><td>NA                                          </td><td>S                                           </td></tr>\n",
       "</tbody>\n",
       "</table>\n"
      ],
      "text/latex": [
       "\\begin{tabular}{r|lllllllllll}\n",
       " PassengerId & Pclass & Name & Sex & Age & SibSp & Parch & Ticket & Fare & Cabin & Embarked\\\\\n",
       "\\hline\n",
       "\t 892                                          & 3                                            & Kelly, Mr. James                             & male                                         & 34.5                                         & 0                                            & 0                                            & 330911                                       &  7.8292                                      & NA                                           & Q                                           \\\\\n",
       "\t 893                                          & 3                                            & Wilkes, Mrs. James (Ellen Needs)             & female                                       & 47.0                                         & 1                                            & 0                                            & 363272                                       &  7.0000                                      & NA                                           & S                                           \\\\\n",
       "\t 894                                          & 2                                            & Myles, Mr. Thomas Francis                    & male                                         & 62.0                                         & 0                                            & 0                                            & 240276                                       &  9.6875                                      & NA                                           & Q                                           \\\\\n",
       "\t 895                                          & 3                                            & Wirz, Mr. Albert                             & male                                         & 27.0                                         & 0                                            & 0                                            & 315154                                       &  8.6625                                      & NA                                           & S                                           \\\\\n",
       "\t 896                                          & 3                                            & Hirvonen, Mrs. Alexander (Helga E Lindqvist) & female                                       & 22.0                                         & 1                                            & 1                                            & 3101298                                      & 12.2875                                      & NA                                           & S                                           \\\\\n",
       "\t 897                                          & 3                                            & Svensson, Mr. Johan Cervin                   & male                                         & 14.0                                         & 0                                            & 0                                            & 7538                                         &  9.2250                                      & NA                                           & S                                           \\\\\n",
       "\\end{tabular}\n"
      ],
      "text/markdown": [
       "\n",
       "| PassengerId | Pclass | Name | Sex | Age | SibSp | Parch | Ticket | Fare | Cabin | Embarked |\n",
       "|---|---|---|---|---|---|---|---|---|---|---|\n",
       "| 892                                          | 3                                            | Kelly, Mr. James                             | male                                         | 34.5                                         | 0                                            | 0                                            | 330911                                       |  7.8292                                      | NA                                           | Q                                            |\n",
       "| 893                                          | 3                                            | Wilkes, Mrs. James (Ellen Needs)             | female                                       | 47.0                                         | 1                                            | 0                                            | 363272                                       |  7.0000                                      | NA                                           | S                                            |\n",
       "| 894                                          | 2                                            | Myles, Mr. Thomas Francis                    | male                                         | 62.0                                         | 0                                            | 0                                            | 240276                                       |  9.6875                                      | NA                                           | Q                                            |\n",
       "| 895                                          | 3                                            | Wirz, Mr. Albert                             | male                                         | 27.0                                         | 0                                            | 0                                            | 315154                                       |  8.6625                                      | NA                                           | S                                            |\n",
       "| 896                                          | 3                                            | Hirvonen, Mrs. Alexander (Helga E Lindqvist) | female                                       | 22.0                                         | 1                                            | 1                                            | 3101298                                      | 12.2875                                      | NA                                           | S                                            |\n",
       "| 897                                          | 3                                            | Svensson, Mr. Johan Cervin                   | male                                         | 14.0                                         | 0                                            | 0                                            | 7538                                         |  9.2250                                      | NA                                           | S                                            |\n",
       "\n"
      ],
      "text/plain": [
       "  PassengerId Pclass Name                                         Sex    Age \n",
       "1 892         3      Kelly, Mr. James                             male   34.5\n",
       "2 893         3      Wilkes, Mrs. James (Ellen Needs)             female 47.0\n",
       "3 894         2      Myles, Mr. Thomas Francis                    male   62.0\n",
       "4 895         3      Wirz, Mr. Albert                             male   27.0\n",
       "5 896         3      Hirvonen, Mrs. Alexander (Helga E Lindqvist) female 22.0\n",
       "6 897         3      Svensson, Mr. Johan Cervin                   male   14.0\n",
       "  SibSp Parch Ticket  Fare    Cabin Embarked\n",
       "1 0     0     330911   7.8292 NA    Q       \n",
       "2 1     0     363272   7.0000 NA    S       \n",
       "3 0     0     240276   9.6875 NA    Q       \n",
       "4 0     0     315154   8.6625 NA    S       \n",
       "5 1     1     3101298 12.2875 NA    S       \n",
       "6 0     0     7538     9.2250 NA    S       "
      ]
     },
     "metadata": {},
     "output_type": "display_data"
    }
   ],
   "source": [
    "# And First six rows in test dataframe\n",
    "head(test_df)"
   ]
  },
  {
   "cell_type": "markdown",
   "id": "96b5eea2",
   "metadata": {},
   "source": [
    "### **Structure Of The Dataframe**"
   ]
  },
  {
   "cell_type": "markdown",
   "id": "9195c0e4",
   "metadata": {},
   "source": [
    "#### **Train**"
   ]
  },
  {
   "cell_type": "code",
   "execution_count": 8,
   "id": "37a96d37",
   "metadata": {
    "vscode": {
     "languageId": "r"
    }
   },
   "outputs": [
    {
     "name": "stdout",
     "output_type": "stream",
     "text": [
      "spec_tbl_df [891 x 12] (S3: spec_tbl_df/tbl_df/tbl/data.frame)\n",
      " $ PassengerId: num [1:891] 1 2 3 4 5 6 7 8 9 10 ...\n",
      " $ Survived   : num [1:891] 0 1 1 1 0 0 0 0 1 1 ...\n",
      " $ Pclass     : num [1:891] 3 1 3 1 3 3 1 3 3 2 ...\n",
      " $ Name       : chr [1:891] \"Braund, Mr. Owen Harris\" \"Cumings, Mrs. John Bradley (Florence Briggs Thayer)\" \"Heikkinen, Miss. Laina\" \"Futrelle, Mrs. Jacques Heath (Lily May Peel)\" ...\n",
      " $ Sex        : chr [1:891] \"male\" \"female\" \"female\" \"female\" ...\n",
      " $ Age        : num [1:891] 22 38 26 35 35 NA 54 2 27 14 ...\n",
      " $ SibSp      : num [1:891] 1 1 0 1 0 0 0 3 0 1 ...\n",
      " $ Parch      : num [1:891] 0 0 0 0 0 0 0 1 2 0 ...\n",
      " $ Ticket     : chr [1:891] \"A/5 21171\" \"PC 17599\" \"STON/O2. 3101282\" \"113803\" ...\n",
      " $ Fare       : num [1:891] 7.25 71.28 7.92 53.1 8.05 ...\n",
      " $ Cabin      : chr [1:891] NA \"C85\" NA \"C123\" ...\n",
      " $ Embarked   : chr [1:891] \"S\" \"C\" \"S\" \"S\" ...\n",
      " - attr(*, \"spec\")=\n",
      "  .. cols(\n",
      "  ..   PassengerId = col_double(),\n",
      "  ..   Survived = col_double(),\n",
      "  ..   Pclass = col_double(),\n",
      "  ..   Name = col_character(),\n",
      "  ..   Sex = col_character(),\n",
      "  ..   Age = col_double(),\n",
      "  ..   SibSp = col_double(),\n",
      "  ..   Parch = col_double(),\n",
      "  ..   Ticket = col_character(),\n",
      "  ..   Fare = col_double(),\n",
      "  ..   Cabin = col_character(),\n",
      "  ..   Embarked = col_character()\n",
      "  .. )\n"
     ]
    }
   ],
   "source": [
    "# View train data information\n",
    "str(train_df)"
   ]
  },
  {
   "cell_type": "markdown",
   "id": "8bf46321",
   "metadata": {},
   "source": [
    "#### **Test**"
   ]
  },
  {
   "cell_type": "code",
   "execution_count": 9,
   "id": "17d70a79",
   "metadata": {
    "vscode": {
     "languageId": "r"
    }
   },
   "outputs": [
    {
     "name": "stdout",
     "output_type": "stream",
     "text": [
      "spec_tbl_df [418 x 11] (S3: spec_tbl_df/tbl_df/tbl/data.frame)\n",
      " $ PassengerId: num [1:418] 892 893 894 895 896 897 898 899 900 901 ...\n",
      " $ Pclass     : num [1:418] 3 3 2 3 3 3 3 2 3 3 ...\n",
      " $ Name       : chr [1:418] \"Kelly, Mr. James\" \"Wilkes, Mrs. James (Ellen Needs)\" \"Myles, Mr. Thomas Francis\" \"Wirz, Mr. Albert\" ...\n",
      " $ Sex        : chr [1:418] \"male\" \"female\" \"male\" \"male\" ...\n",
      " $ Age        : num [1:418] 34.5 47 62 27 22 14 30 26 18 21 ...\n",
      " $ SibSp      : num [1:418] 0 1 0 0 1 0 0 1 0 2 ...\n",
      " $ Parch      : num [1:418] 0 0 0 0 1 0 0 1 0 0 ...\n",
      " $ Ticket     : chr [1:418] \"330911\" \"363272\" \"240276\" \"315154\" ...\n",
      " $ Fare       : num [1:418] 7.83 7 9.69 8.66 12.29 ...\n",
      " $ Cabin      : chr [1:418] NA NA NA NA ...\n",
      " $ Embarked   : chr [1:418] \"Q\" \"S\" \"Q\" \"S\" ...\n",
      " - attr(*, \"spec\")=\n",
      "  .. cols(\n",
      "  ..   PassengerId = col_double(),\n",
      "  ..   Pclass = col_double(),\n",
      "  ..   Name = col_character(),\n",
      "  ..   Sex = col_character(),\n",
      "  ..   Age = col_double(),\n",
      "  ..   SibSp = col_double(),\n",
      "  ..   Parch = col_double(),\n",
      "  ..   Ticket = col_character(),\n",
      "  ..   Fare = col_double(),\n",
      "  ..   Cabin = col_character(),\n",
      "  ..   Embarked = col_character()\n",
      "  .. )\n"
     ]
    }
   ],
   "source": [
    "# View train data information\n",
    "str(test_df)"
   ]
  },
  {
   "cell_type": "markdown",
   "id": "aa49a7bb",
   "metadata": {},
   "source": [
    "### **Data Description**"
   ]
  },
  {
   "cell_type": "code",
   "execution_count": 10,
   "id": "ab2fe59d",
   "metadata": {
    "vscode": {
     "languageId": "r"
    }
   },
   "outputs": [
    {
     "data": {
      "text/plain": [
       "  PassengerId       Survived          Pclass          Name          \n",
       " Min.   :  1.0   Min.   :0.0000   Min.   :1.000   Length:891        \n",
       " 1st Qu.:223.5   1st Qu.:0.0000   1st Qu.:2.000   Class :character  \n",
       " Median :446.0   Median :0.0000   Median :3.000   Mode  :character  \n",
       " Mean   :446.0   Mean   :0.3838   Mean   :2.309                     \n",
       " 3rd Qu.:668.5   3rd Qu.:1.0000   3rd Qu.:3.000                     \n",
       " Max.   :891.0   Max.   :1.0000   Max.   :3.000                     \n",
       "                                                                    \n",
       "     Sex                 Age            SibSp           Parch       \n",
       " Length:891         Min.   : 0.42   Min.   :0.000   Min.   :0.0000  \n",
       " Class :character   1st Qu.:20.12   1st Qu.:0.000   1st Qu.:0.0000  \n",
       " Mode  :character   Median :28.00   Median :0.000   Median :0.0000  \n",
       "                    Mean   :29.70   Mean   :0.523   Mean   :0.3816  \n",
       "                    3rd Qu.:38.00   3rd Qu.:1.000   3rd Qu.:0.0000  \n",
       "                    Max.   :80.00   Max.   :8.000   Max.   :6.0000  \n",
       "                    NA's   :177                                     \n",
       "    Ticket               Fare           Cabin             Embarked        \n",
       " Length:891         Min.   :  0.00   Length:891         Length:891        \n",
       " Class :character   1st Qu.:  7.91   Class :character   Class :character  \n",
       " Mode  :character   Median : 14.45   Mode  :character   Mode  :character  \n",
       "                    Mean   : 32.20                                        \n",
       "                    3rd Qu.: 31.00                                        \n",
       "                    Max.   :512.33                                        \n",
       "                                                                          "
      ]
     },
     "metadata": {},
     "output_type": "display_data"
    }
   ],
   "source": [
    "summary(train_df)"
   ]
  },
  {
   "cell_type": "code",
   "execution_count": 11,
   "id": "04df9e02",
   "metadata": {
    "vscode": {
     "languageId": "r"
    }
   },
   "outputs": [
    {
     "data": {
      "text/plain": [
       "  PassengerId         Pclass          Name               Sex           \n",
       " Min.   : 892.0   Min.   :1.000   Length:418         Length:418        \n",
       " 1st Qu.: 996.2   1st Qu.:1.000   Class :character   Class :character  \n",
       " Median :1100.5   Median :3.000   Mode  :character   Mode  :character  \n",
       " Mean   :1100.5   Mean   :2.266                                        \n",
       " 3rd Qu.:1204.8   3rd Qu.:3.000                                        \n",
       " Max.   :1309.0   Max.   :3.000                                        \n",
       "                                                                       \n",
       "      Age            SibSp            Parch           Ticket         \n",
       " Min.   : 0.17   Min.   :0.0000   Min.   :0.0000   Length:418        \n",
       " 1st Qu.:21.00   1st Qu.:0.0000   1st Qu.:0.0000   Class :character  \n",
       " Median :27.00   Median :0.0000   Median :0.0000   Mode  :character  \n",
       " Mean   :30.27   Mean   :0.4474   Mean   :0.3923                     \n",
       " 3rd Qu.:39.00   3rd Qu.:1.0000   3rd Qu.:0.0000                     \n",
       " Max.   :76.00   Max.   :8.0000   Max.   :9.0000                     \n",
       " NA's   :86                                                          \n",
       "      Fare            Cabin             Embarked        \n",
       " Min.   :  0.000   Length:418         Length:418        \n",
       " 1st Qu.:  7.896   Class :character   Class :character  \n",
       " Median : 14.454   Mode  :character   Mode  :character  \n",
       " Mean   : 35.627                                        \n",
       " 3rd Qu.: 31.500                                        \n",
       " Max.   :512.329                                        \n",
       " NA's   :1                                              "
      ]
     },
     "metadata": {},
     "output_type": "display_data"
    }
   ],
   "source": [
    "summary(test_df)"
   ]
  },
  {
   "cell_type": "markdown",
   "id": "32f0d896",
   "metadata": {},
   "source": [
    "## **Split Data**"
   ]
  },
  {
   "cell_type": "markdown",
   "id": "494a8244",
   "metadata": {},
   "source": [
    "*Split dataset into train and validation dataset*"
   ]
  },
  {
   "cell_type": "code",
   "execution_count": 14,
   "id": "af6c68aa",
   "metadata": {
    "vscode": {
     "languageId": "r"
    }
   },
   "outputs": [],
   "source": [
    "sample <- initial_split(train_df, prop = 0.80)\n",
    "training_df <- training(sample)\n",
    "testing_df <- testing(sample)"
   ]
  },
  {
   "cell_type": "code",
   "execution_count": 41,
   "id": "6130c798",
   "metadata": {
    "vscode": {
     "languageId": "r"
    }
   },
   "outputs": [
    {
     "name": "stdout",
     "output_type": "stream",
     "text": [
      "Training_df shape:\n",
      "\tNrow: 712 \n",
      "\tNcolumns: 12"
     ]
    }
   ],
   "source": [
    "train_shape <- dim(training_df)\n",
    "cat(\"Training_df shape:\\n\")\n",
    "cat(\"\\tNrow:\", as.character(train_shape[1]), \"\\n\")\n",
    "cat(\"\\tNcolumns:\", as.character(train_shape[2]))"
   ]
  },
  {
   "cell_type": "code",
   "execution_count": 42,
   "id": "6d2bebff",
   "metadata": {
    "vscode": {
     "languageId": "r"
    }
   },
   "outputs": [
    {
     "name": "stdout",
     "output_type": "stream",
     "text": [
      "Testing_df shape:\n",
      "\tNrow: 179 \n",
      "\tNcolumns: 12"
     ]
    }
   ],
   "source": [
    "test_shape <- dim(testing_df)\n",
    "cat(\"Testing_df shape:\\n\")\n",
    "cat(\"\\tNrow:\", as.character(test_shape[1]), \"\\n\")\n",
    "cat(\"\\tNcolumns:\", as.character(test_shape[2]))"
   ]
  }
 ],
 "metadata": {
  "interpreter": {
   "hash": "73d93dc8f05e11edd792caf32440607221b41b8a8f5547f031a69dfc1294e4ac"
  },
  "kernelspec": {
   "display_name": "R",
   "language": "R",
   "name": "ir"
  },
  "language_info": {
   "codemirror_mode": "r",
   "file_extension": ".r",
   "mimetype": "text/x-r-source",
   "name": "R",
   "pygments_lexer": "r",
   "version": "3.6.1"
  }
 },
 "nbformat": 4,
 "nbformat_minor": 5
}
