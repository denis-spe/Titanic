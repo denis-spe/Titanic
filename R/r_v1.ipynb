{
 "cells": [
  {
   "cell_type": "markdown",
   "id": "f8b3393e",
   "metadata": {},
   "source": [
    "# **Predicting Passenger Survivor**\n",
    "****"
   ]
  },
  {
   "cell_type": "markdown",
   "id": "d8a7a50e",
   "metadata": {},
   "source": [
    "**Table content**\n",
    "* **About Data**\n",
    "* **Import Libraries**\n",
    "* **load Datasets**\n",
    "* **Explorer Datasets**\n",
    "* **Data Split**\n",
    "* **Data Cleaning**\n",
    "* **Data Visualization**\n",
    "* **Choose Model**\n",
    "* **Fit Models**\n",
    "* **Evaluate Model**\n",
    "* **Fine The Model**"
   ]
  },
  {
   "cell_type": "markdown",
   "id": "0dc96fc5",
   "metadata": {},
   "source": [
    "## **About Data**\n",
    "RMS Titanic was a British passenger liner, operated by the White Star Line, which sank in the North Atlantic Ocean on 15 April 1912 after striking an iceberg. for more info click <a href='https://en.wikipedia.org/wiki/Titanic' style='text-decoration:none'>here</a>"
   ]
  },
  {
   "cell_type": "markdown",
   "id": "521fa9f6",
   "metadata": {},
   "source": [
    "<pre style=\"font-family: 'Brush Script MT', cursive, serif;\">\n",
    "<h3 style='font-size: 12'>Defination Of Feature Columns</h3>\n",
    "<b>Survived:</b> Passager Survived \n",
    "0 = No \n",
    "1 = Yes\n",
    "<b>Embarked:</b> Port of Embarkation \n",
    "C = Cherbourg\n",
    "Q = Queenstown\n",
    "S = Southampton\n",
    "<b>Pclass:</b> ticket class\n",
    "A proxy for socio-economic status (SES)\n",
    "1st = Upper\n",
    "2nd = Middle\n",
    "3rd = Lower\n",
    "<b>Sex:</b> passenger sex\n",
    "<b>Age:</b> Age in years\n",
    "Age is fractional if less than 1. \n",
    "If the age is estimated, is it in the form of xx.5\n",
    "<b>Sibsp:</b> of siblings / spouses aboard the Titanic\n",
    "The dataset defines family relations in this way...\n",
    "Sibling = brother, sister, stepbrother, stepsister\n",
    "Spouse = husband, wife (mistresses and fiancés were ignored)\n",
    "<b>Parch:</b> of parents / children aboard the Titanic.\n",
    "The dataset defines family relations in this way...\n",
    "Parent = mother, father\n",
    "Child = daughter, son, stepdaughter, stepson\n",
    "Some children travelled only with a nanny, therefore parch=0 for them.\n",
    "<b>Ticket:</b> ticket number\n",
    "<b>Fare:</b> fare paid for a ticket\n",
    "<b>cabin:</b> Cabin number\n",
    "</pre>"
   ]
  },
  {
   "cell_type": "markdown",
   "id": "321f1b0c",
   "metadata": {},
   "source": [
    "## **Import Libraries**"
   ]
  },
  {
   "cell_type": "code",
   "execution_count": 1,
   "id": "e46d920c",
   "metadata": {
    "vscode": {
     "languageId": "r"
    }
   },
   "outputs": [
    {
     "name": "stderr",
     "output_type": "stream",
     "text": [
      "── \u001b[1mAttaching packages\u001b[22m ─────────────────────────────────────── tidyverse 1.3.1 ──\n",
      "\n",
      "\u001b[32m✔\u001b[39m \u001b[34mggplot2\u001b[39m 3.3.6     \u001b[32m✔\u001b[39m \u001b[34mpurrr  \u001b[39m 0.3.4\n",
      "\u001b[32m✔\u001b[39m \u001b[34mtibble \u001b[39m 3.1.7     \u001b[32m✔\u001b[39m \u001b[34mdplyr  \u001b[39m 1.0.9\n",
      "\u001b[32m✔\u001b[39m \u001b[34mtidyr  \u001b[39m 1.2.0     \u001b[32m✔\u001b[39m \u001b[34mstringr\u001b[39m 1.4.0\n",
      "\u001b[32m✔\u001b[39m \u001b[34mreadr  \u001b[39m 2.1.2     \u001b[32m✔\u001b[39m \u001b[34mforcats\u001b[39m 0.5.1\n",
      "\n",
      "── \u001b[1mConflicts\u001b[22m ────────────────────────────────────────── tidyverse_conflicts() ──\n",
      "\u001b[31m✖\u001b[39m \u001b[34mdplyr\u001b[39m::\u001b[32mfilter()\u001b[39m masks \u001b[34mstats\u001b[39m::filter()\n",
      "\u001b[31m✖\u001b[39m \u001b[34mdplyr\u001b[39m::\u001b[32mlag()\u001b[39m    masks \u001b[34mstats\u001b[39m::lag()\n",
      "\n",
      "── \u001b[1mAttaching packages\u001b[22m ────────────────────────────────────── tidymodels 0.2.0 ──\n",
      "\n",
      "\u001b[32m✔\u001b[39m \u001b[34mbroom       \u001b[39m 0.8.0     \u001b[32m✔\u001b[39m \u001b[34mrsample     \u001b[39m 0.1.1\n",
      "\u001b[32m✔\u001b[39m \u001b[34mdials       \u001b[39m 1.0.0     \u001b[32m✔\u001b[39m \u001b[34mtune        \u001b[39m 0.2.0\n",
      "\u001b[32m✔\u001b[39m \u001b[34minfer       \u001b[39m 1.0.2     \u001b[32m✔\u001b[39m \u001b[34mworkflows   \u001b[39m 0.2.6\n",
      "\u001b[32m✔\u001b[39m \u001b[34mmodeldata   \u001b[39m 0.1.1     \u001b[32m✔\u001b[39m \u001b[34mworkflowsets\u001b[39m 0.2.1\n",
      "\u001b[32m✔\u001b[39m \u001b[34mparsnip     \u001b[39m 1.0.0     \u001b[32m✔\u001b[39m \u001b[34myardstick   \u001b[39m 1.0.0\n",
      "\u001b[32m✔\u001b[39m \u001b[34mrecipes     \u001b[39m 0.2.0     \n",
      "\n",
      "── \u001b[1mConflicts\u001b[22m ───────────────────────────────────────── tidymodels_conflicts() ──\n",
      "\u001b[31m✖\u001b[39m \u001b[34mscales\u001b[39m::\u001b[32mdiscard()\u001b[39m masks \u001b[34mpurrr\u001b[39m::discard()\n",
      "\u001b[31m✖\u001b[39m \u001b[34mdplyr\u001b[39m::\u001b[32mfilter()\u001b[39m   masks \u001b[34mstats\u001b[39m::filter()\n",
      "\u001b[31m✖\u001b[39m \u001b[34mrecipes\u001b[39m::\u001b[32mfixed()\u001b[39m  masks \u001b[34mstringr\u001b[39m::fixed()\n",
      "\u001b[31m✖\u001b[39m \u001b[34mdplyr\u001b[39m::\u001b[32mlag()\u001b[39m      masks \u001b[34mstats\u001b[39m::lag()\n",
      "\u001b[31m✖\u001b[39m \u001b[34myardstick\u001b[39m::\u001b[32mspec()\u001b[39m masks \u001b[34mreadr\u001b[39m::spec()\n",
      "\u001b[31m✖\u001b[39m \u001b[34mrecipes\u001b[39m::\u001b[32mstep()\u001b[39m   masks \u001b[34mstats\u001b[39m::step()\n",
      "\u001b[34m•\u001b[39m Search for functions across packages at \u001b[32mhttps://www.tidymodels.org/find/\u001b[39m\n",
      "\n",
      "\n",
      "Attaching package: 'mice'\n",
      "\n",
      "\n",
      "The following object is masked from 'package:stats':\n",
      "\n",
      "    filter\n",
      "\n",
      "\n",
      "The following objects are masked from 'package:base':\n",
      "\n",
      "    cbind, rbind\n",
      "\n",
      "\n",
      "corrplot 0.92 loaded\n",
      "\n",
      "Loading required package: lattice\n",
      "\n",
      "Loading required package: survival\n",
      "\n",
      "Loading required package: Formula\n",
      "\n",
      "\n",
      "Attaching package: 'Hmisc'\n",
      "\n",
      "\n",
      "The following object is masked from 'package:parsnip':\n",
      "\n",
      "    translate\n",
      "\n",
      "\n",
      "The following objects are masked from 'package:dplyr':\n",
      "\n",
      "    src, summarize\n",
      "\n",
      "\n",
      "The following objects are masked from 'package:base':\n",
      "\n",
      "    format.pval, units\n",
      "\n",
      "\n",
      "\n",
      "Attaching package: 'gridExtra'\n",
      "\n",
      "\n",
      "The following object is masked from 'package:dplyr':\n",
      "\n",
      "    combine\n",
      "\n",
      "\n"
     ]
    }
   ],
   "source": [
    "library(tidyverse)\n",
    "library(tidymodels)\n",
    "library(mice)\n",
    "library(ggthemes)\n",
    "library(corrplot)\n",
    "library(naniar)\n",
    "library(Hmisc)\n",
    "library(gridExtra)"
   ]
  },
  {
   "cell_type": "markdown",
   "id": "079959cc",
   "metadata": {},
   "source": [
    "## **Setting Notebook**"
   ]
  },
  {
   "cell_type": "code",
   "execution_count": 2,
   "id": "f935d024",
   "metadata": {
    "vscode": {
     "languageId": "r"
    }
   },
   "outputs": [],
   "source": [
    "options(warn=-1)\n",
    "\n",
    "# Configure plot width and height.\n",
    "options(repr.plot.width=12, repr.plot.height=6)\n",
    "\n",
    "# Set the result seed for reproducibly.\n",
    "set.seed(0)"
   ]
  },
  {
   "cell_type": "markdown",
   "id": "e4894f4d",
   "metadata": {},
   "source": [
    "## **Load Datasets**"
   ]
  },
  {
   "cell_type": "code",
   "execution_count": 3,
   "id": "b3bfc6b3",
   "metadata": {
    "vscode": {
     "languageId": "r"
    }
   },
   "outputs": [],
   "source": [
    "load_data <- function(train_path, test_path) {\n",
    "    # Instantiate the train dataframe\n",
    "    train_df <- readr::read_csv(train_path)\n",
    "\n",
    "    # Instantiate the test dataframe\n",
    "    test_df <- readr::read_csv(test_path)\n",
    "\n",
    "    return(list(train = train_df, test = test_df))\n",
    "}"
   ]
  },
  {
   "cell_type": "code",
   "execution_count": 4,
   "id": "9cae1c06",
   "metadata": {
    "vscode": {
     "languageId": "r"
    }
   },
   "outputs": [
    {
     "name": "stderr",
     "output_type": "stream",
     "text": [
      "\u001b[1mRows: \u001b[22m\u001b[34m891\u001b[39m \u001b[1mColumns: \u001b[22m\u001b[34m12\u001b[39m\n",
      "\u001b[36m──\u001b[39m \u001b[1mColumn specification\u001b[22m \u001b[36m────────────────────────────────────────────────────────\u001b[39m\n",
      "\u001b[1mDelimiter:\u001b[22m \",\"\n",
      "\u001b[31mchr\u001b[39m (5): Name, Sex, Ticket, Cabin, Embarked\n",
      "\u001b[32mdbl\u001b[39m (7): PassengerId, Survived, Pclass, Age, SibSp, Parch, Fare\n",
      "\n",
      "\u001b[36mℹ\u001b[39m Use `spec()` to retrieve the full column specification for this data.\n",
      "\u001b[36mℹ\u001b[39m Specify the column types or set `show_col_types = FALSE` to quiet this message.\n",
      "\u001b[1mRows: \u001b[22m\u001b[34m418\u001b[39m \u001b[1mColumns: \u001b[22m\u001b[34m11\u001b[39m\n",
      "\u001b[36m──\u001b[39m \u001b[1mColumn specification\u001b[22m \u001b[36m────────────────────────────────────────────────────────\u001b[39m\n",
      "\u001b[1mDelimiter:\u001b[22m \",\"\n",
      "\u001b[31mchr\u001b[39m (5): Name, Sex, Ticket, Cabin, Embarked\n",
      "\u001b[32mdbl\u001b[39m (6): PassengerId, Pclass, Age, SibSp, Parch, Fare\n",
      "\n",
      "\u001b[36mℹ\u001b[39m Use `spec()` to retrieve the full column specification for this data.\n",
      "\u001b[36mℹ\u001b[39m Specify the column types or set `show_col_types = FALSE` to quiet this message.\n"
     ]
    }
   ],
   "source": [
    "# Initialize the data path\n",
    "train_path <- \"../datasets/train.csv\"\n",
    "test_path <- \"../datasets/test.csv\"\n",
    "\n",
    "# Assign datasets to vector of dataframe\n",
    "datasets <- load_data(train_path, test_path)\n",
    "\n",
    "# Instantiate train and test dataframe\n",
    "train_df <- datasets$train\n",
    "test_df <- datasets$test"
   ]
  },
  {
   "cell_type": "markdown",
   "id": "41e3b17b",
   "metadata": {},
   "source": [
    "## **Explorer Datasets**\n",
    "---"
   ]
  },
  {
   "cell_type": "markdown",
   "id": "1b64e669",
   "metadata": {},
   "source": [
    "### **Train And Test Dataframe**"
   ]
  },
  {
   "cell_type": "markdown",
   "id": "858c8033",
   "metadata": {},
   "source": [
    "#### **Train**"
   ]
  },
  {
   "cell_type": "code",
   "execution_count": 5,
   "id": "378c68bf",
   "metadata": {
    "vscode": {
     "languageId": "r"
    }
   },
   "outputs": [
    {
     "data": {
      "text/html": [
       "<table class=\"dataframe\">\n",
       "<caption>A tibble: 6 × 12</caption>\n",
       "<thead>\n",
       "\t<tr><th scope=col>PassengerId</th><th scope=col>Survived</th><th scope=col>Pclass</th><th scope=col>Name</th><th scope=col>Sex</th><th scope=col>Age</th><th scope=col>SibSp</th><th scope=col>Parch</th><th scope=col>Ticket</th><th scope=col>Fare</th><th scope=col>Cabin</th><th scope=col>Embarked</th></tr>\n",
       "\t<tr><th scope=col>&lt;dbl&gt;</th><th scope=col>&lt;dbl&gt;</th><th scope=col>&lt;dbl&gt;</th><th scope=col>&lt;chr&gt;</th><th scope=col>&lt;chr&gt;</th><th scope=col>&lt;dbl&gt;</th><th scope=col>&lt;dbl&gt;</th><th scope=col>&lt;dbl&gt;</th><th scope=col>&lt;chr&gt;</th><th scope=col>&lt;dbl&gt;</th><th scope=col>&lt;chr&gt;</th><th scope=col>&lt;chr&gt;</th></tr>\n",
       "</thead>\n",
       "<tbody>\n",
       "\t<tr><td>1</td><td>0</td><td>3</td><td>Braund, Mr. Owen Harris                            </td><td>male  </td><td>22</td><td>1</td><td>0</td><td>A/5 21171       </td><td> 7.2500</td><td>NA  </td><td>S</td></tr>\n",
       "\t<tr><td>2</td><td>1</td><td>1</td><td>Cumings, Mrs. John Bradley (Florence Briggs Thayer)</td><td>female</td><td>38</td><td>1</td><td>0</td><td>PC 17599        </td><td>71.2833</td><td>C85 </td><td>C</td></tr>\n",
       "\t<tr><td>3</td><td>1</td><td>3</td><td>Heikkinen, Miss. Laina                             </td><td>female</td><td>26</td><td>0</td><td>0</td><td>STON/O2. 3101282</td><td> 7.9250</td><td>NA  </td><td>S</td></tr>\n",
       "\t<tr><td>4</td><td>1</td><td>1</td><td>Futrelle, Mrs. Jacques Heath (Lily May Peel)       </td><td>female</td><td>35</td><td>1</td><td>0</td><td>113803          </td><td>53.1000</td><td>C123</td><td>S</td></tr>\n",
       "\t<tr><td>5</td><td>0</td><td>3</td><td>Allen, Mr. William Henry                           </td><td>male  </td><td>35</td><td>0</td><td>0</td><td>373450          </td><td> 8.0500</td><td>NA  </td><td>S</td></tr>\n",
       "\t<tr><td>6</td><td>0</td><td>3</td><td>Moran, Mr. James                                   </td><td>male  </td><td>NA</td><td>0</td><td>0</td><td>330877          </td><td> 8.4583</td><td>NA  </td><td>Q</td></tr>\n",
       "</tbody>\n",
       "</table>\n"
      ],
      "text/latex": [
       "A tibble: 6 × 12\n",
       "\\begin{tabular}{llllllllllll}\n",
       " PassengerId & Survived & Pclass & Name & Sex & Age & SibSp & Parch & Ticket & Fare & Cabin & Embarked\\\\\n",
       " <dbl> & <dbl> & <dbl> & <chr> & <chr> & <dbl> & <dbl> & <dbl> & <chr> & <dbl> & <chr> & <chr>\\\\\n",
       "\\hline\n",
       "\t 1 & 0 & 3 & Braund, Mr. Owen Harris                             & male   & 22 & 1 & 0 & A/5 21171        &  7.2500 & NA   & S\\\\\n",
       "\t 2 & 1 & 1 & Cumings, Mrs. John Bradley (Florence Briggs Thayer) & female & 38 & 1 & 0 & PC 17599         & 71.2833 & C85  & C\\\\\n",
       "\t 3 & 1 & 3 & Heikkinen, Miss. Laina                              & female & 26 & 0 & 0 & STON/O2. 3101282 &  7.9250 & NA   & S\\\\\n",
       "\t 4 & 1 & 1 & Futrelle, Mrs. Jacques Heath (Lily May Peel)        & female & 35 & 1 & 0 & 113803           & 53.1000 & C123 & S\\\\\n",
       "\t 5 & 0 & 3 & Allen, Mr. William Henry                            & male   & 35 & 0 & 0 & 373450           &  8.0500 & NA   & S\\\\\n",
       "\t 6 & 0 & 3 & Moran, Mr. James                                    & male   & NA & 0 & 0 & 330877           &  8.4583 & NA   & Q\\\\\n",
       "\\end{tabular}\n"
      ],
      "text/markdown": [
       "\n",
       "A tibble: 6 × 12\n",
       "\n",
       "| PassengerId &lt;dbl&gt; | Survived &lt;dbl&gt; | Pclass &lt;dbl&gt; | Name &lt;chr&gt; | Sex &lt;chr&gt; | Age &lt;dbl&gt; | SibSp &lt;dbl&gt; | Parch &lt;dbl&gt; | Ticket &lt;chr&gt; | Fare &lt;dbl&gt; | Cabin &lt;chr&gt; | Embarked &lt;chr&gt; |\n",
       "|---|---|---|---|---|---|---|---|---|---|---|---|\n",
       "| 1 | 0 | 3 | Braund, Mr. Owen Harris                             | male   | 22 | 1 | 0 | A/5 21171        |  7.2500 | NA   | S |\n",
       "| 2 | 1 | 1 | Cumings, Mrs. John Bradley (Florence Briggs Thayer) | female | 38 | 1 | 0 | PC 17599         | 71.2833 | C85  | C |\n",
       "| 3 | 1 | 3 | Heikkinen, Miss. Laina                              | female | 26 | 0 | 0 | STON/O2. 3101282 |  7.9250 | NA   | S |\n",
       "| 4 | 1 | 1 | Futrelle, Mrs. Jacques Heath (Lily May Peel)        | female | 35 | 1 | 0 | 113803           | 53.1000 | C123 | S |\n",
       "| 5 | 0 | 3 | Allen, Mr. William Henry                            | male   | 35 | 0 | 0 | 373450           |  8.0500 | NA   | S |\n",
       "| 6 | 0 | 3 | Moran, Mr. James                                    | male   | NA | 0 | 0 | 330877           |  8.4583 | NA   | Q |\n",
       "\n"
      ],
      "text/plain": [
       "  PassengerId Survived Pclass\n",
       "1 1           0        3     \n",
       "2 2           1        1     \n",
       "3 3           1        3     \n",
       "4 4           1        1     \n",
       "5 5           0        3     \n",
       "6 6           0        3     \n",
       "  Name                                                Sex    Age SibSp Parch\n",
       "1 Braund, Mr. Owen Harris                             male   22  1     0    \n",
       "2 Cumings, Mrs. John Bradley (Florence Briggs Thayer) female 38  1     0    \n",
       "3 Heikkinen, Miss. Laina                              female 26  0     0    \n",
       "4 Futrelle, Mrs. Jacques Heath (Lily May Peel)        female 35  1     0    \n",
       "5 Allen, Mr. William Henry                            male   35  0     0    \n",
       "6 Moran, Mr. James                                    male   NA  0     0    \n",
       "  Ticket           Fare    Cabin Embarked\n",
       "1 A/5 21171         7.2500 NA    S       \n",
       "2 PC 17599         71.2833 C85   C       \n",
       "3 STON/O2. 3101282  7.9250 NA    S       \n",
       "4 113803           53.1000 C123  S       \n",
       "5 373450            8.0500 NA    S       \n",
       "6 330877            8.4583 NA    Q       "
      ]
     },
     "metadata": {},
     "output_type": "display_data"
    }
   ],
   "source": [
    "# Check out the first six row in train data frame\n",
    "head(train_df)"
   ]
  },
  {
   "cell_type": "markdown",
   "id": "a21a8d22",
   "metadata": {},
   "source": [
    "#### **Test**"
   ]
  },
  {
   "cell_type": "code",
   "execution_count": 6,
   "id": "e8bdd924",
   "metadata": {
    "vscode": {
     "languageId": "r"
    }
   },
   "outputs": [
    {
     "data": {
      "text/html": [
       "<table class=\"dataframe\">\n",
       "<caption>A tibble: 6 × 11</caption>\n",
       "<thead>\n",
       "\t<tr><th scope=col>PassengerId</th><th scope=col>Pclass</th><th scope=col>Name</th><th scope=col>Sex</th><th scope=col>Age</th><th scope=col>SibSp</th><th scope=col>Parch</th><th scope=col>Ticket</th><th scope=col>Fare</th><th scope=col>Cabin</th><th scope=col>Embarked</th></tr>\n",
       "\t<tr><th scope=col>&lt;dbl&gt;</th><th scope=col>&lt;dbl&gt;</th><th scope=col>&lt;chr&gt;</th><th scope=col>&lt;chr&gt;</th><th scope=col>&lt;dbl&gt;</th><th scope=col>&lt;dbl&gt;</th><th scope=col>&lt;dbl&gt;</th><th scope=col>&lt;chr&gt;</th><th scope=col>&lt;dbl&gt;</th><th scope=col>&lt;chr&gt;</th><th scope=col>&lt;chr&gt;</th></tr>\n",
       "</thead>\n",
       "<tbody>\n",
       "\t<tr><td>892</td><td>3</td><td>Kelly, Mr. James                            </td><td>male  </td><td>34.5</td><td>0</td><td>0</td><td>330911 </td><td> 7.8292</td><td>NA</td><td>Q</td></tr>\n",
       "\t<tr><td>893</td><td>3</td><td>Wilkes, Mrs. James (Ellen Needs)            </td><td>female</td><td>47.0</td><td>1</td><td>0</td><td>363272 </td><td> 7.0000</td><td>NA</td><td>S</td></tr>\n",
       "\t<tr><td>894</td><td>2</td><td>Myles, Mr. Thomas Francis                   </td><td>male  </td><td>62.0</td><td>0</td><td>0</td><td>240276 </td><td> 9.6875</td><td>NA</td><td>Q</td></tr>\n",
       "\t<tr><td>895</td><td>3</td><td>Wirz, Mr. Albert                            </td><td>male  </td><td>27.0</td><td>0</td><td>0</td><td>315154 </td><td> 8.6625</td><td>NA</td><td>S</td></tr>\n",
       "\t<tr><td>896</td><td>3</td><td>Hirvonen, Mrs. Alexander (Helga E Lindqvist)</td><td>female</td><td>22.0</td><td>1</td><td>1</td><td>3101298</td><td>12.2875</td><td>NA</td><td>S</td></tr>\n",
       "\t<tr><td>897</td><td>3</td><td>Svensson, Mr. Johan Cervin                  </td><td>male  </td><td>14.0</td><td>0</td><td>0</td><td>7538   </td><td> 9.2250</td><td>NA</td><td>S</td></tr>\n",
       "</tbody>\n",
       "</table>\n"
      ],
      "text/latex": [
       "A tibble: 6 × 11\n",
       "\\begin{tabular}{lllllllllll}\n",
       " PassengerId & Pclass & Name & Sex & Age & SibSp & Parch & Ticket & Fare & Cabin & Embarked\\\\\n",
       " <dbl> & <dbl> & <chr> & <chr> & <dbl> & <dbl> & <dbl> & <chr> & <dbl> & <chr> & <chr>\\\\\n",
       "\\hline\n",
       "\t 892 & 3 & Kelly, Mr. James                             & male   & 34.5 & 0 & 0 & 330911  &  7.8292 & NA & Q\\\\\n",
       "\t 893 & 3 & Wilkes, Mrs. James (Ellen Needs)             & female & 47.0 & 1 & 0 & 363272  &  7.0000 & NA & S\\\\\n",
       "\t 894 & 2 & Myles, Mr. Thomas Francis                    & male   & 62.0 & 0 & 0 & 240276  &  9.6875 & NA & Q\\\\\n",
       "\t 895 & 3 & Wirz, Mr. Albert                             & male   & 27.0 & 0 & 0 & 315154  &  8.6625 & NA & S\\\\\n",
       "\t 896 & 3 & Hirvonen, Mrs. Alexander (Helga E Lindqvist) & female & 22.0 & 1 & 1 & 3101298 & 12.2875 & NA & S\\\\\n",
       "\t 897 & 3 & Svensson, Mr. Johan Cervin                   & male   & 14.0 & 0 & 0 & 7538    &  9.2250 & NA & S\\\\\n",
       "\\end{tabular}\n"
      ],
      "text/markdown": [
       "\n",
       "A tibble: 6 × 11\n",
       "\n",
       "| PassengerId &lt;dbl&gt; | Pclass &lt;dbl&gt; | Name &lt;chr&gt; | Sex &lt;chr&gt; | Age &lt;dbl&gt; | SibSp &lt;dbl&gt; | Parch &lt;dbl&gt; | Ticket &lt;chr&gt; | Fare &lt;dbl&gt; | Cabin &lt;chr&gt; | Embarked &lt;chr&gt; |\n",
       "|---|---|---|---|---|---|---|---|---|---|---|\n",
       "| 892 | 3 | Kelly, Mr. James                             | male   | 34.5 | 0 | 0 | 330911  |  7.8292 | NA | Q |\n",
       "| 893 | 3 | Wilkes, Mrs. James (Ellen Needs)             | female | 47.0 | 1 | 0 | 363272  |  7.0000 | NA | S |\n",
       "| 894 | 2 | Myles, Mr. Thomas Francis                    | male   | 62.0 | 0 | 0 | 240276  |  9.6875 | NA | Q |\n",
       "| 895 | 3 | Wirz, Mr. Albert                             | male   | 27.0 | 0 | 0 | 315154  |  8.6625 | NA | S |\n",
       "| 896 | 3 | Hirvonen, Mrs. Alexander (Helga E Lindqvist) | female | 22.0 | 1 | 1 | 3101298 | 12.2875 | NA | S |\n",
       "| 897 | 3 | Svensson, Mr. Johan Cervin                   | male   | 14.0 | 0 | 0 | 7538    |  9.2250 | NA | S |\n",
       "\n"
      ],
      "text/plain": [
       "  PassengerId Pclass Name                                         Sex    Age \n",
       "1 892         3      Kelly, Mr. James                             male   34.5\n",
       "2 893         3      Wilkes, Mrs. James (Ellen Needs)             female 47.0\n",
       "3 894         2      Myles, Mr. Thomas Francis                    male   62.0\n",
       "4 895         3      Wirz, Mr. Albert                             male   27.0\n",
       "5 896         3      Hirvonen, Mrs. Alexander (Helga E Lindqvist) female 22.0\n",
       "6 897         3      Svensson, Mr. Johan Cervin                   male   14.0\n",
       "  SibSp Parch Ticket  Fare    Cabin Embarked\n",
       "1 0     0     330911   7.8292 NA    Q       \n",
       "2 1     0     363272   7.0000 NA    S       \n",
       "3 0     0     240276   9.6875 NA    Q       \n",
       "4 0     0     315154   8.6625 NA    S       \n",
       "5 1     1     3101298 12.2875 NA    S       \n",
       "6 0     0     7538     9.2250 NA    S       "
      ]
     },
     "metadata": {},
     "output_type": "display_data"
    }
   ],
   "source": [
    "# And First six rows in test dataframe\n",
    "head(test_df)"
   ]
  },
  {
   "cell_type": "markdown",
   "id": "96b5eea2",
   "metadata": {},
   "source": [
    "### **Structure Of The Dataframe**"
   ]
  },
  {
   "cell_type": "markdown",
   "id": "9195c0e4",
   "metadata": {},
   "source": [
    "#### **Train**"
   ]
  },
  {
   "cell_type": "code",
   "execution_count": 7,
   "id": "37a96d37",
   "metadata": {
    "vscode": {
     "languageId": "r"
    }
   },
   "outputs": [
    {
     "name": "stdout",
     "output_type": "stream",
     "text": [
      "spec_tbl_df [891 × 12] (S3: spec_tbl_df/tbl_df/tbl/data.frame)\n",
      " $ PassengerId: num [1:891] 1 2 3 4 5 6 7 8 9 10 ...\n",
      " $ Survived   : num [1:891] 0 1 1 1 0 0 0 0 1 1 ...\n",
      " $ Pclass     : num [1:891] 3 1 3 1 3 3 1 3 3 2 ...\n",
      " $ Name       : chr [1:891] \"Braund, Mr. Owen Harris\" \"Cumings, Mrs. John Bradley (Florence Briggs Thayer)\" \"Heikkinen, Miss. Laina\" \"Futrelle, Mrs. Jacques Heath (Lily May Peel)\" ...\n",
      " $ Sex        : chr [1:891] \"male\" \"female\" \"female\" \"female\" ...\n",
      " $ Age        : num [1:891] 22 38 26 35 35 NA 54 2 27 14 ...\n",
      " $ SibSp      : num [1:891] 1 1 0 1 0 0 0 3 0 1 ...\n",
      " $ Parch      : num [1:891] 0 0 0 0 0 0 0 1 2 0 ...\n",
      " $ Ticket     : chr [1:891] \"A/5 21171\" \"PC 17599\" \"STON/O2. 3101282\" \"113803\" ...\n",
      " $ Fare       : num [1:891] 7.25 71.28 7.92 53.1 8.05 ...\n",
      " $ Cabin      : chr [1:891] NA \"C85\" NA \"C123\" ...\n",
      " $ Embarked   : chr [1:891] \"S\" \"C\" \"S\" \"S\" ...\n",
      " - attr(*, \"spec\")=\n",
      "  .. cols(\n",
      "  ..   PassengerId = \u001b[32mcol_double()\u001b[39m,\n",
      "  ..   Survived = \u001b[32mcol_double()\u001b[39m,\n",
      "  ..   Pclass = \u001b[32mcol_double()\u001b[39m,\n",
      "  ..   Name = \u001b[31mcol_character()\u001b[39m,\n",
      "  ..   Sex = \u001b[31mcol_character()\u001b[39m,\n",
      "  ..   Age = \u001b[32mcol_double()\u001b[39m,\n",
      "  ..   SibSp = \u001b[32mcol_double()\u001b[39m,\n",
      "  ..   Parch = \u001b[32mcol_double()\u001b[39m,\n",
      "  ..   Ticket = \u001b[31mcol_character()\u001b[39m,\n",
      "  ..   Fare = \u001b[32mcol_double()\u001b[39m,\n",
      "  ..   Cabin = \u001b[31mcol_character()\u001b[39m,\n",
      "  ..   Embarked = \u001b[31mcol_character()\u001b[39m\n",
      "  .. )\n",
      " - attr(*, \"problems\")=<externalptr> \n"
     ]
    }
   ],
   "source": [
    "# View train data information\n",
    "str(train_df)"
   ]
  },
  {
   "cell_type": "markdown",
   "id": "8bf46321",
   "metadata": {},
   "source": [
    "#### **Test**"
   ]
  },
  {
   "cell_type": "code",
   "execution_count": 8,
   "id": "17d70a79",
   "metadata": {
    "vscode": {
     "languageId": "r"
    }
   },
   "outputs": [
    {
     "name": "stdout",
     "output_type": "stream",
     "text": [
      "spec_tbl_df [418 × 11] (S3: spec_tbl_df/tbl_df/tbl/data.frame)\n",
      " $ PassengerId: num [1:418] 892 893 894 895 896 897 898 899 900 901 ...\n",
      " $ Pclass     : num [1:418] 3 3 2 3 3 3 3 2 3 3 ...\n",
      " $ Name       : chr [1:418] \"Kelly, Mr. James\" \"Wilkes, Mrs. James (Ellen Needs)\" \"Myles, Mr. Thomas Francis\" \"Wirz, Mr. Albert\" ...\n",
      " $ Sex        : chr [1:418] \"male\" \"female\" \"male\" \"male\" ...\n",
      " $ Age        : num [1:418] 34.5 47 62 27 22 14 30 26 18 21 ...\n",
      " $ SibSp      : num [1:418] 0 1 0 0 1 0 0 1 0 2 ...\n",
      " $ Parch      : num [1:418] 0 0 0 0 1 0 0 1 0 0 ...\n",
      " $ Ticket     : chr [1:418] \"330911\" \"363272\" \"240276\" \"315154\" ...\n",
      " $ Fare       : num [1:418] 7.83 7 9.69 8.66 12.29 ...\n",
      " $ Cabin      : chr [1:418] NA NA NA NA ...\n",
      " $ Embarked   : chr [1:418] \"Q\" \"S\" \"Q\" \"S\" ...\n",
      " - attr(*, \"spec\")=\n",
      "  .. cols(\n",
      "  ..   PassengerId = \u001b[32mcol_double()\u001b[39m,\n",
      "  ..   Pclass = \u001b[32mcol_double()\u001b[39m,\n",
      "  ..   Name = \u001b[31mcol_character()\u001b[39m,\n",
      "  ..   Sex = \u001b[31mcol_character()\u001b[39m,\n",
      "  ..   Age = \u001b[32mcol_double()\u001b[39m,\n",
      "  ..   SibSp = \u001b[32mcol_double()\u001b[39m,\n",
      "  ..   Parch = \u001b[32mcol_double()\u001b[39m,\n",
      "  ..   Ticket = \u001b[31mcol_character()\u001b[39m,\n",
      "  ..   Fare = \u001b[32mcol_double()\u001b[39m,\n",
      "  ..   Cabin = \u001b[31mcol_character()\u001b[39m,\n",
      "  ..   Embarked = \u001b[31mcol_character()\u001b[39m\n",
      "  .. )\n",
      " - attr(*, \"problems\")=<externalptr> \n"
     ]
    }
   ],
   "source": [
    "# View train data information\n",
    "str(test_df)"
   ]
  },
  {
   "cell_type": "markdown",
   "id": "aa49a7bb",
   "metadata": {},
   "source": [
    "### **Data Description**"
   ]
  },
  {
   "cell_type": "code",
   "execution_count": 9,
   "id": "ab2fe59d",
   "metadata": {
    "vscode": {
     "languageId": "r"
    }
   },
   "outputs": [
    {
     "data": {
      "text/plain": [
       "train_df \n",
       "\n",
       " 12  Variables      891  Observations\n",
       "--------------------------------------------------------------------------------\n",
       "PassengerId \n",
       "       n  missing distinct     Info     Mean      Gmd      .05      .10 \n",
       "     891        0      891        1      446    297.3     45.5     90.0 \n",
       "     .25      .50      .75      .90      .95 \n",
       "   223.5    446.0    668.5    802.0    846.5 \n",
       "\n",
       "lowest :   1   2   3   4   5, highest: 887 888 889 890 891\n",
       "--------------------------------------------------------------------------------\n",
       "Survived \n",
       "       n  missing distinct     Info      Sum     Mean      Gmd \n",
       "     891        0        2     0.71      342   0.3838   0.4735 \n",
       "\n",
       "--------------------------------------------------------------------------------\n",
       "Pclass \n",
       "       n  missing distinct     Info     Mean      Gmd \n",
       "     891        0        3     0.81    2.309   0.8631 \n",
       "                            \n",
       "Value          1     2     3\n",
       "Frequency    216   184   491\n",
       "Proportion 0.242 0.207 0.551\n",
       "--------------------------------------------------------------------------------\n",
       "Name \n",
       "       n  missing distinct \n",
       "     891        0      891 \n",
       "\n",
       "lowest : Abbing, Mr. Anthony                    Abbott, Mr. Rossmore Edward            Abbott, Mrs. Stanton (Rosa Hunt)       Abelson, Mr. Samuel                    Abelson, Mrs. Samuel (Hannah Wizosky) \n",
       "highest: Yousseff, Mr. Gerious                  Yrois, Miss. Henriette (\"Mrs Harbeck\") Zabour, Miss. Hileni                   Zabour, Miss. Thamine                  Zimmerman, Mr. Leo                    \n",
       "--------------------------------------------------------------------------------\n",
       "Sex \n",
       "       n  missing distinct \n",
       "     891        0        2 \n",
       "                        \n",
       "Value      female   male\n",
       "Frequency     314    577\n",
       "Proportion  0.352  0.648\n",
       "--------------------------------------------------------------------------------\n",
       "Age \n",
       "       n  missing distinct     Info     Mean      Gmd      .05      .10 \n",
       "     714      177       88    0.999     29.7    16.21     4.00    14.00 \n",
       "     .25      .50      .75      .90      .95 \n",
       "   20.12    28.00    38.00    50.00    56.00 \n",
       "\n",
       "lowest :  0.42  0.67  0.75  0.83  0.92, highest: 70.00 70.50 71.00 74.00 80.00\n",
       "--------------------------------------------------------------------------------\n",
       "SibSp \n",
       "       n  missing distinct     Info     Mean      Gmd \n",
       "     891        0        7    0.669    0.523    0.823 \n",
       "\n",
       "lowest : 0 1 2 3 4, highest: 2 3 4 5 8\n",
       "                                                    \n",
       "Value          0     1     2     3     4     5     8\n",
       "Frequency    608   209    28    16    18     5     7\n",
       "Proportion 0.682 0.235 0.031 0.018 0.020 0.006 0.008\n",
       "--------------------------------------------------------------------------------\n",
       "Parch \n",
       "       n  missing distinct     Info     Mean      Gmd \n",
       "     891        0        7    0.556   0.3816   0.6259 \n",
       "\n",
       "lowest : 0 1 2 3 4, highest: 2 3 4 5 6\n",
       "                                                    \n",
       "Value          0     1     2     3     4     5     6\n",
       "Frequency    678   118    80     5     4     5     1\n",
       "Proportion 0.761 0.132 0.090 0.006 0.004 0.006 0.001\n",
       "--------------------------------------------------------------------------------\n",
       "Ticket \n",
       "       n  missing distinct \n",
       "     891        0      681 \n",
       "\n",
       "lowest : 110152      110413      110465      110564      110813     \n",
       "highest: W./C. 6608  W./C. 6609  W.E.P. 5734 W/C 14208   WE/P 5735  \n",
       "--------------------------------------------------------------------------------\n",
       "Fare \n",
       "       n  missing distinct     Info     Mean      Gmd      .05      .10 \n",
       "     891        0      248        1     32.2    36.78    7.225    7.550 \n",
       "     .25      .50      .75      .90      .95 \n",
       "   7.910   14.454   31.000   77.958  112.079 \n",
       "\n",
       "lowest :   0.0000   4.0125   5.0000   6.2375   6.4375\n",
       "highest: 227.5250 247.5208 262.3750 263.0000 512.3292\n",
       "--------------------------------------------------------------------------------\n",
       "Cabin \n",
       "       n  missing distinct \n",
       "     204      687      147 \n",
       "\n",
       "lowest : A10 A14 A16 A19 A20, highest: F33 F38 F4  G6  T  \n",
       "--------------------------------------------------------------------------------\n",
       "Embarked \n",
       "       n  missing distinct \n",
       "     889        2        3 \n",
       "                            \n",
       "Value          C     Q     S\n",
       "Frequency    168    77   644\n",
       "Proportion 0.189 0.087 0.724\n",
       "--------------------------------------------------------------------------------"
      ]
     },
     "metadata": {},
     "output_type": "display_data"
    }
   ],
   "source": [
    "describe(train_df)"
   ]
  },
  {
   "cell_type": "code",
   "execution_count": 10,
   "id": "04df9e02",
   "metadata": {
    "vscode": {
     "languageId": "r"
    }
   },
   "outputs": [
    {
     "data": {
      "text/plain": [
       "test_df \n",
       "\n",
       " 11  Variables      418  Observations\n",
       "--------------------------------------------------------------------------------\n",
       "PassengerId \n",
       "       n  missing distinct     Info     Mean      Gmd      .05      .10 \n",
       "     418        0      418        1     1100    139.7    912.9    933.7 \n",
       "     .25      .50      .75      .90      .95 \n",
       "   996.2   1100.5   1204.8   1267.3   1288.2 \n",
       "\n",
       "lowest :  892  893  894  895  896, highest: 1305 1306 1307 1308 1309\n",
       "--------------------------------------------------------------------------------\n",
       "Pclass \n",
       "       n  missing distinct     Info     Mean      Gmd \n",
       "     418        0        3     0.83    2.266   0.8821 \n",
       "                            \n",
       "Value          1     2     3\n",
       "Frequency    107    93   218\n",
       "Proportion 0.256 0.222 0.522\n",
       "--------------------------------------------------------------------------------\n",
       "Name \n",
       "       n  missing distinct \n",
       "     418        0      418 \n",
       "\n",
       "lowest : Abbott, Master. Eugene Joseph             Abelseth, Miss. Karen Marie               Abelseth, Mr. Olaus Jorgensen             Abrahamsson, Mr. Abraham August Johannes  Abrahim, Mrs. Joseph (Sophie Halaut Easu)\n",
       "highest: Wirz, Mr. Albert                          Wittevrongel, Mr. Camille                 Wright, Miss. Marion                      Zakarian, Mr. Mapriededer                 Zakarian, Mr. Ortin                      \n",
       "--------------------------------------------------------------------------------\n",
       "Sex \n",
       "       n  missing distinct \n",
       "     418        0        2 \n",
       "                        \n",
       "Value      female   male\n",
       "Frequency     152    266\n",
       "Proportion  0.364  0.636\n",
       "--------------------------------------------------------------------------------\n",
       "Age \n",
       "       n  missing distinct     Info     Mean      Gmd      .05      .10 \n",
       "     332       86       79    0.999    30.27    15.77      8.0     16.1 \n",
       "     .25      .50      .75      .90      .95 \n",
       "    21.0     27.0     39.0     50.0     57.0 \n",
       "\n",
       "lowest :  0.17  0.33  0.75  0.83  0.92, highest: 62.00 63.00 64.00 67.00 76.00\n",
       "--------------------------------------------------------------------------------\n",
       "SibSp \n",
       "       n  missing distinct     Info     Mean      Gmd \n",
       "     418        0        7    0.671   0.4474   0.6784 \n",
       "\n",
       "lowest : 0 1 2 3 4, highest: 2 3 4 5 8\n",
       "                                                    \n",
       "Value          0     1     2     3     4     5     8\n",
       "Frequency    283   110    14     4     4     1     2\n",
       "Proportion 0.677 0.263 0.033 0.010 0.010 0.002 0.005\n",
       "--------------------------------------------------------------------------------\n",
       "Parch \n",
       "       n  missing distinct     Info     Mean      Gmd \n",
       "     418        0        8    0.532   0.3923   0.6632 \n",
       "\n",
       "lowest : 0 1 2 3 4, highest: 3 4 5 6 9\n",
       "                                                          \n",
       "Value          0     1     2     3     4     5     6     9\n",
       "Frequency    324    52    33     3     2     1     1     2\n",
       "Proportion 0.775 0.124 0.079 0.007 0.005 0.002 0.002 0.005\n",
       "--------------------------------------------------------------------------------\n",
       "Ticket \n",
       "       n  missing distinct \n",
       "     418        0      363 \n",
       "\n",
       "lowest : 110469      110489      110813      111163      112051     \n",
       "highest: W./C. 14260 W./C. 14266 W./C. 6607  W./C. 6608  W.E.P. 5734\n",
       "--------------------------------------------------------------------------------\n",
       "Fare \n",
       "       n  missing distinct     Info     Mean      Gmd      .05      .10 \n",
       "     417        1      169        1    35.63    42.52    7.229    7.642 \n",
       "     .25      .50      .75      .90      .95 \n",
       "   7.896   14.454   31.500   79.200  151.550 \n",
       "\n",
       "lowest :   0.0000   3.1708   6.4375   6.4958   6.9500\n",
       "highest: 227.5250 247.5208 262.3750 263.0000 512.3292\n",
       "--------------------------------------------------------------------------------\n",
       "Cabin \n",
       "       n  missing distinct \n",
       "      91      327       76 \n",
       "\n",
       "lowest : A11   A18   A21   A29   A34  , highest: F G63 F2    F33   F4    G6   \n",
       "--------------------------------------------------------------------------------\n",
       "Embarked \n",
       "       n  missing distinct \n",
       "     418        0        3 \n",
       "                            \n",
       "Value          C     Q     S\n",
       "Frequency    102    46   270\n",
       "Proportion 0.244 0.110 0.646\n",
       "--------------------------------------------------------------------------------"
      ]
     },
     "metadata": {},
     "output_type": "display_data"
    }
   ],
   "source": [
    "describe(test_df)"
   ]
  },
  {
   "cell_type": "markdown",
   "id": "a8a70a8a",
   "metadata": {},
   "source": [
    "## **Data Preprocessing**\n",
    "---"
   ]
  },
  {
   "cell_type": "markdown",
   "id": "053bdf13",
   "metadata": {},
   "source": [
    "Construct a test model for testing the change in data"
   ]
  },
  {
   "cell_type": "code",
   "execution_count": 11,
   "id": "09009262",
   "metadata": {
    "vscode": {
     "languageId": "r"
    }
   },
   "outputs": [],
   "source": [
    "test_model <- function(column_name, used_method, train_data, test_data){\n",
    "\n",
    "        # Change the outcome variable to factor.\n",
    "        df <- train_data %>% mutate(Survived = as.factor(Survived))\n",
    "        test_df <- test_data %>% mutate(Survived = as.factor(Survived))\n",
    "\n",
    "        # Initialize the model.\n",
    "        model <- parsnip::rand_forest() %>%\n",
    "                set_engine(\"ranger\") %>%\n",
    "                set_mode(\"classification\")\n",
    "\n",
    "        # Make a formula.\n",
    "        model_formula <- as.formula(paste(\"Survived\", \"~\", column_name))\n",
    "\n",
    "        # Create a recipe.\n",
    "        model_recipe <- recipes::recipe(model_formula, data=df)\n",
    "\n",
    "        # Create a workflow.\n",
    "        model_workflow <- workflows::workflow() %>%\n",
    "                                add_model(model) %>%\n",
    "                                add_recipe(model_recipe)\n",
    "\n",
    "        # Fit the workflow.\n",
    "        fitted_model <- model_workflow %>% fit(df)\n",
    "\n",
    "        # Make prediction.\n",
    "        pred_train = predict(fitted_model, df)\n",
    "        pred_test = predict(fitted_model, test_df)\n",
    "        \n",
    "\n",
    "        \n",
    "\n",
    "        # Construct a result data frame.\n",
    "        result_df <- df %>% select(Survived) %>%\n",
    "                bind_cols(pred_train)\n",
    "\n",
    "        result_test_df <- test_df %>% select(Survived) %>%\n",
    "                bind_cols(pred_test)                \n",
    "\n",
    "        # Get the accuracy.\n",
    "        score <- accuracy(result_df, truth=Survived, estimate=.pred_class) %>% \n",
    "                        bind_rows(accuracy(result_test_df, truth=Survived, estimate=.pred_class))\n",
    "        \n",
    "        # Change data into a data frame.\n",
    "        score_df <- as.data.frame(score)\n",
    "\n",
    "        # Assign new row names to the score.\n",
    "        rownames(score_df) <- c('train', 'test')\n",
    "\n",
    "        cat(\"Fill NaN with \", used_method, \"\\n\")\n",
    "        print(score_df)\n",
    "\n",
    "        # \n",
    "        # print(score)\n",
    "\n",
    "        # # Combine the metrics\n",
    "        # metric_score <- metric_set(accuracy, sens, spec)\n",
    "        # metric_score(result_df, truth=Survived, estimate=.pred_class)\n",
    "}"
   ]
  },
  {
   "cell_type": "markdown",
   "id": "32f0d896",
   "metadata": {},
   "source": [
    "### **Split Data**"
   ]
  },
  {
   "cell_type": "markdown",
   "id": "494a8244",
   "metadata": {},
   "source": [
    "*Split dataset into train and validation(testing) dataset*"
   ]
  },
  {
   "cell_type": "code",
   "execution_count": 12,
   "id": "af6c68aa",
   "metadata": {
    "vscode": {
     "languageId": "r"
    }
   },
   "outputs": [],
   "source": [
    "sample <- initial_split(train_df, prop = 0.80, strata = Survived)\n",
    "training_df <- training(sample)\n",
    "validation_df <- testing(sample)"
   ]
  },
  {
   "cell_type": "code",
   "execution_count": 13,
   "id": "6130c798",
   "metadata": {
    "vscode": {
     "languageId": "r"
    }
   },
   "outputs": [
    {
     "name": "stdout",
     "output_type": "stream",
     "text": [
      "Training_df shape:\n",
      "\tNrow: 712 \n",
      "\tNcolumns: 12"
     ]
    }
   ],
   "source": [
    "train_shape <- dim(training_df)\n",
    "cat(\"Training_df shape:\\n\")\n",
    "cat(\"\\tNrow:\", as.character(train_shape[1]), \"\\n\")\n",
    "cat(\"\\tNcolumns:\", as.character(train_shape[2]))"
   ]
  },
  {
   "cell_type": "code",
   "execution_count": 14,
   "id": "6d2bebff",
   "metadata": {
    "vscode": {
     "languageId": "r"
    }
   },
   "outputs": [
    {
     "name": "stdout",
     "output_type": "stream",
     "text": [
      "Validation_df shape:\n",
      "\tNrow: 179 \n",
      "\tNcolumns: 12"
     ]
    }
   ],
   "source": [
    "valid_shape <- dim(validation_df)\n",
    "cat(\"Validation_df shape:\\n\")\n",
    "cat(\"\\tNrow:\", as.character(valid_shape[1]), \"\\n\")\n",
    "cat(\"\\tNcolumns:\", as.character(valid_shape[2]))"
   ]
  },
  {
   "cell_type": "markdown",
   "id": "ec079abc",
   "metadata": {},
   "source": [
    "### **Data Cleaning**"
   ]
  },
  {
   "cell_type": "markdown",
   "id": "3df6c3f3",
   "metadata": {},
   "source": [
    "#### **Checking For Missing Value(NaN)<br>And Cleaning**"
   ]
  },
  {
   "cell_type": "code",
   "execution_count": 15,
   "id": "0715c0ab",
   "metadata": {
    "vscode": {
     "languageId": "r"
    }
   },
   "outputs": [],
   "source": [
    "check.nan <- function(data){\n",
    "    #' Check for Missing values in the dataframe.\n",
    "    #' :param data: To check missing values\n",
    "    #' :return data.frame: A dataframe each column with\n",
    "    #' it's percent and count of missing values\n",
    "    \n",
    "    # Get the total number of missing value by each column.\n",
    "    total_of_missing <- colSums(is.na(data))\n",
    "\n",
    "    # Get the data shape.\n",
    "    data_dim <- dim(data)\n",
    "\n",
    "    # Calculating the percentage of missing values.\n",
    "    percent <- round(total_of_missing / data_dim[[1]] * 100, 3)\n",
    "\n",
    "    # Construct a data frame for missing values.\n",
    "    missing_values_df <- data.frame(total_of_missing, percent)\n",
    "\n",
    "    return(missing_values_df)\n",
    "}\n",
    "\n",
    "\n",
    "\n",
    "check_missing_values <- function(data) {\n",
    "    # Check for Missing values in the dataframe.\n",
    "    # :param data: To check missing values\n",
    "    # :return data.frame: A dataframe each column with\n",
    "    # it's percent and count of missing values\n",
    "\n",
    "    # Construct a data frame for missing values.\n",
    "    missing_values_df <- check.nan(data)\n",
    "\n",
    "    # Create a bar for missing values\n",
    "    miss <- naniar::vis_miss(data)\n",
    "        \n",
    "    # Construct a ggplot for missing variables\n",
    "    gg_miss <- gg_miss_var(data)\n",
    "\n",
    "    grid.arrange(miss, gg_miss, nrow=1, ncol=2)\n",
    "    return(missing_values_df)\n",
    "}"
   ]
  },
  {
   "cell_type": "markdown",
   "id": "6ba6a325",
   "metadata": {},
   "source": [
    "#### **Train And Validation Data**"
   ]
  },
  {
   "cell_type": "code",
   "execution_count": 16,
   "id": "f946e6db",
   "metadata": {
    "vscode": {
     "languageId": "r"
    }
   },
   "outputs": [
    {
     "data": {
      "text/html": [
       "<table class=\"dataframe\">\n",
       "<caption>A data.frame: 12 × 2</caption>\n",
       "<thead>\n",
       "\t<tr><th></th><th scope=col>total_of_missing</th><th scope=col>percent</th></tr>\n",
       "\t<tr><th></th><th scope=col>&lt;dbl&gt;</th><th scope=col>&lt;dbl&gt;</th></tr>\n",
       "</thead>\n",
       "<tbody>\n",
       "\t<tr><th scope=row>PassengerId</th><td>  0</td><td> 0.000</td></tr>\n",
       "\t<tr><th scope=row>Survived</th><td>  0</td><td> 0.000</td></tr>\n",
       "\t<tr><th scope=row>Pclass</th><td>  0</td><td> 0.000</td></tr>\n",
       "\t<tr><th scope=row>Name</th><td>  0</td><td> 0.000</td></tr>\n",
       "\t<tr><th scope=row>Sex</th><td>  0</td><td> 0.000</td></tr>\n",
       "\t<tr><th scope=row>Age</th><td>177</td><td>19.865</td></tr>\n",
       "\t<tr><th scope=row>SibSp</th><td>  0</td><td> 0.000</td></tr>\n",
       "\t<tr><th scope=row>Parch</th><td>  0</td><td> 0.000</td></tr>\n",
       "\t<tr><th scope=row>Ticket</th><td>  0</td><td> 0.000</td></tr>\n",
       "\t<tr><th scope=row>Fare</th><td>  0</td><td> 0.000</td></tr>\n",
       "\t<tr><th scope=row>Cabin</th><td>687</td><td>77.104</td></tr>\n",
       "\t<tr><th scope=row>Embarked</th><td>  2</td><td> 0.224</td></tr>\n",
       "</tbody>\n",
       "</table>\n"
      ],
      "text/latex": [
       "A data.frame: 12 × 2\n",
       "\\begin{tabular}{r|ll}\n",
       "  & total\\_of\\_missing & percent\\\\\n",
       "  & <dbl> & <dbl>\\\\\n",
       "\\hline\n",
       "\tPassengerId &   0 &  0.000\\\\\n",
       "\tSurvived &   0 &  0.000\\\\\n",
       "\tPclass &   0 &  0.000\\\\\n",
       "\tName &   0 &  0.000\\\\\n",
       "\tSex &   0 &  0.000\\\\\n",
       "\tAge & 177 & 19.865\\\\\n",
       "\tSibSp &   0 &  0.000\\\\\n",
       "\tParch &   0 &  0.000\\\\\n",
       "\tTicket &   0 &  0.000\\\\\n",
       "\tFare &   0 &  0.000\\\\\n",
       "\tCabin & 687 & 77.104\\\\\n",
       "\tEmbarked &   2 &  0.224\\\\\n",
       "\\end{tabular}\n"
      ],
      "text/markdown": [
       "\n",
       "A data.frame: 12 × 2\n",
       "\n",
       "| <!--/--> | total_of_missing &lt;dbl&gt; | percent &lt;dbl&gt; |\n",
       "|---|---|---|\n",
       "| PassengerId |   0 |  0.000 |\n",
       "| Survived |   0 |  0.000 |\n",
       "| Pclass |   0 |  0.000 |\n",
       "| Name |   0 |  0.000 |\n",
       "| Sex |   0 |  0.000 |\n",
       "| Age | 177 | 19.865 |\n",
       "| SibSp |   0 |  0.000 |\n",
       "| Parch |   0 |  0.000 |\n",
       "| Ticket |   0 |  0.000 |\n",
       "| Fare |   0 |  0.000 |\n",
       "| Cabin | 687 | 77.104 |\n",
       "| Embarked |   2 |  0.224 |\n",
       "\n"
      ],
      "text/plain": [
       "            total_of_missing percent\n",
       "PassengerId   0               0.000 \n",
       "Survived      0               0.000 \n",
       "Pclass        0               0.000 \n",
       "Name          0               0.000 \n",
       "Sex           0               0.000 \n",
       "Age         177              19.865 \n",
       "SibSp         0               0.000 \n",
       "Parch         0               0.000 \n",
       "Ticket        0               0.000 \n",
       "Fare          0               0.000 \n",
       "Cabin       687              77.104 \n",
       "Embarked      2               0.224 "
      ]
     },
     "metadata": {},
     "output_type": "display_data"
    },
    {
     "data": {
      "image/png": "[encoded data removed]",
      "text/plain": [
       "plot without title"
      ]
     },
     "metadata": {
      "image/png": {
       "height": 360,
       "width": 720
      }
     },
     "output_type": "display_data"
    }
   ],
   "source": [
    "# Missing value check in full train data\n",
    "check_missing_values(train_df)"
   ]
  },
  {
   "cell_type": "markdown",
   "id": "5b5194f6",
   "metadata": {},
   "source": [
    "A Function for getting the most frequent value from the column."
   ]
  },
  {
   "cell_type": "code",
   "execution_count": 17,
   "id": "7920c9ba",
   "metadata": {
    "vscode": {
     "languageId": "r"
    }
   },
   "outputs": [],
   "source": [
    "most_frequent_value <- function(data, col_name){\n",
    "    # Returns the most frequent value.\n",
    "    selected.column <- data %>% count(.data[[col_name]], sort=TRUE) %>% select(.data[[col_name]])\n",
    "    return(selected.column[[col_name]][complete.cases(selected.column)][1])\n",
    "}"
   ]
  },
  {
   "cell_type": "markdown",
   "id": "83ddc920",
   "metadata": {},
   "source": [
    "**Fill Age**"
   ]
  },
  {
   "cell_type": "markdown",
   "id": "910dffd8",
   "metadata": {},
   "source": [
    "The dataframe of missing values and bar chart shows it clearly that 19.9% of the data is missing in age column"
   ]
  },
  {
   "cell_type": "code",
   "execution_count": 18,
   "id": "a5bfaba1",
   "metadata": {
    "vscode": {
     "languageId": "r"
    }
   },
   "outputs": [
    {
     "name": "stdout",
     "output_type": "stream",
     "text": [
      "Fill NaN with  mean \n",
      "       .metric .estimator .estimate\n",
      "train accuracy     binary 0.6811798\n",
      "test  accuracy     binary 0.5754190\n",
      "\n",
      "Fill NaN with  mode \n",
      "       .metric .estimator .estimate\n",
      "train accuracy     binary 0.6811798\n",
      "test  accuracy     binary 0.5865922\n",
      "\n",
      "Fill NaN with  zero \n",
      "       .metric .estimator .estimate\n",
      "train accuracy     binary 0.6811798\n",
      "test  accuracy     binary 0.5754190\n",
      "\n",
      "Fill NaN with  median \n",
      "       .metric .estimator .estimate\n",
      "train accuracy     binary 0.6811798\n",
      "test  accuracy     binary 0.5698324\n"
     ]
    }
   ],
   "source": [
    "# set the reproducibly result.\n",
    "set.seed(0)\n",
    "\n",
    "# Fill the missing values with the mean in age\n",
    "training_df_mean = training_df %>% replace_na(list(Age = mean(training_df$Age, na.rm=TRUE)))\n",
    "valid_df_mean = validation_df %>% replace_na(list(Age = mean(validation_df$Age, na.rm=TRUE)))\n",
    "\n",
    "# Fill the missing values with the mean in age\n",
    "training_df_mode = training_df %>% replace_na(list(Age = most_frequent_value(training_df, 'Age')))\n",
    "valid_df_mode = validation_df %>% replace_na(list(Age = most_frequent_value(validation_df, 'Age')))\n",
    "\n",
    "# Fill the missing values with the zero in age\n",
    "training_df_zero = training_df %>% replace_na(list(Age = 0))\n",
    "valid_df_zero = validation_df %>% replace_na(list(Age = 0))\n",
    "\n",
    "# Fill the missing values with the median in age\n",
    "training_df_median = training_df %>% replace_na(list(Age = median(training_df$Age, na.rm = TRUE)))\n",
    "valid_df_median = validation_df %>% replace_na(list(Age = median(validation_df$Age, na.rm = TRUE)))\n",
    "\n",
    "# Test data imputed with mean in age column.\n",
    "test_model('Age', 'mean', training_df_mean, valid_df_mean)\n",
    "\n",
    "cat(\"\\n\")\n",
    "\n",
    "# Test data imputed with most column value in age column.\n",
    "test_model('Age', 'mode', training_df_mode, valid_df_mode)\n",
    "\n",
    "cat(\"\\n\")\n",
    "\n",
    "# Test data imputed with most column value in age column.\n",
    "test_model('Age', 'zero', training_df_zero, valid_df_zero)\n",
    "\n",
    "cat(\"\\n\")\n",
    "\n",
    "# Test data imputed with most column value in age column.\n",
    "test_model('Age', 'median', training_df_median, valid_df_median)"
   ]
  },
  {
   "cell_type": "markdown",
   "id": "855a8f0f",
   "metadata": {},
   "source": [
    "Filling Age missing Values with mode number."
   ]
  },
  {
   "cell_type": "code",
   "execution_count": 22,
   "id": "0f40b009",
   "metadata": {
    "vscode": {
     "languageId": "r"
    }
   },
   "outputs": [],
   "source": [
    "cleaned_training_df <- training_df %>% replace_na(list(Age = most_frequent_value(training_df, \"Age\")))\n",
    "cleaned_validation_df <- validation_df %>% replace_na(list(Age = most_frequent_value(validation_df, \"Age\")))\n",
    "cleaned_test_df <- test_df %>% replace_na(list(Age = most_frequent_value(validation_df, \"Age\")))"
   ]
  },
  {
   "cell_type": "code",
   "execution_count": 23,
   "id": "e182d296",
   "metadata": {
    "vscode": {
     "languageId": "r"
    }
   },
   "outputs": [
    {
     "data": {
      "text/html": [
       "<table class=\"dataframe\">\n",
       "<caption>A data.frame: 12 × 2</caption>\n",
       "<thead>\n",
       "\t<tr><th></th><th scope=col>total_of_missing</th><th scope=col>percent</th></tr>\n",
       "\t<tr><th></th><th scope=col>&lt;dbl&gt;</th><th scope=col>&lt;dbl&gt;</th></tr>\n",
       "</thead>\n",
       "<tbody>\n",
       "\t<tr><th scope=row>PassengerId</th><td>  0</td><td> 0.000</td></tr>\n",
       "\t<tr><th scope=row>Survived</th><td>  0</td><td> 0.000</td></tr>\n",
       "\t<tr><th scope=row>Pclass</th><td>  0</td><td> 0.000</td></tr>\n",
       "\t<tr><th scope=row>Name</th><td>  0</td><td> 0.000</td></tr>\n",
       "\t<tr><th scope=row>Sex</th><td>  0</td><td> 0.000</td></tr>\n",
       "\t<tr><th scope=row>Age</th><td>  0</td><td> 0.000</td></tr>\n",
       "\t<tr><th scope=row>SibSp</th><td>  0</td><td> 0.000</td></tr>\n",
       "\t<tr><th scope=row>Parch</th><td>  0</td><td> 0.000</td></tr>\n",
       "\t<tr><th scope=row>Ticket</th><td>  0</td><td> 0.000</td></tr>\n",
       "\t<tr><th scope=row>Fare</th><td>  0</td><td> 0.000</td></tr>\n",
       "\t<tr><th scope=row>Cabin</th><td>552</td><td>77.528</td></tr>\n",
       "\t<tr><th scope=row>Embarked</th><td>  1</td><td> 0.140</td></tr>\n",
       "</tbody>\n",
       "</table>\n"
      ],
      "text/latex": [
       "A data.frame: 12 × 2\n",
       "\\begin{tabular}{r|ll}\n",
       "  & total\\_of\\_missing & percent\\\\\n",
       "  & <dbl> & <dbl>\\\\\n",
       "\\hline\n",
       "\tPassengerId &   0 &  0.000\\\\\n",
       "\tSurvived &   0 &  0.000\\\\\n",
       "\tPclass &   0 &  0.000\\\\\n",
       "\tName &   0 &  0.000\\\\\n",
       "\tSex &   0 &  0.000\\\\\n",
       "\tAge &   0 &  0.000\\\\\n",
       "\tSibSp &   0 &  0.000\\\\\n",
       "\tParch &   0 &  0.000\\\\\n",
       "\tTicket &   0 &  0.000\\\\\n",
       "\tFare &   0 &  0.000\\\\\n",
       "\tCabin & 552 & 77.528\\\\\n",
       "\tEmbarked &   1 &  0.140\\\\\n",
       "\\end{tabular}\n"
      ],
      "text/markdown": [
       "\n",
       "A data.frame: 12 × 2\n",
       "\n",
       "| <!--/--> | total_of_missing &lt;dbl&gt; | percent &lt;dbl&gt; |\n",
       "|---|---|---|\n",
       "| PassengerId |   0 |  0.000 |\n",
       "| Survived |   0 |  0.000 |\n",
       "| Pclass |   0 |  0.000 |\n",
       "| Name |   0 |  0.000 |\n",
       "| Sex |   0 |  0.000 |\n",
       "| Age |   0 |  0.000 |\n",
       "| SibSp |   0 |  0.000 |\n",
       "| Parch |   0 |  0.000 |\n",
       "| Ticket |   0 |  0.000 |\n",
       "| Fare |   0 |  0.000 |\n",
       "| Cabin | 552 | 77.528 |\n",
       "| Embarked |   1 |  0.140 |\n",
       "\n"
      ],
      "text/plain": [
       "            total_of_missing percent\n",
       "PassengerId   0               0.000 \n",
       "Survived      0               0.000 \n",
       "Pclass        0               0.000 \n",
       "Name          0               0.000 \n",
       "Sex           0               0.000 \n",
       "Age           0               0.000 \n",
       "SibSp         0               0.000 \n",
       "Parch         0               0.000 \n",
       "Ticket        0               0.000 \n",
       "Fare          0               0.000 \n",
       "Cabin       552              77.528 \n",
       "Embarked      1               0.140 "
      ]
     },
     "metadata": {},
     "output_type": "display_data"
    }
   ],
   "source": [
    "# Check missing values in each column.\n",
    "check.nan(cleaned_training_df)"
   ]
  },
  {
   "cell_type": "code",
   "execution_count": 25,
   "id": "1adce01c",
   "metadata": {
    "vscode": {
     "languageId": "r"
    }
   },
   "outputs": [
    {
     "data": {
      "text/html": [
       "<table class=\"dataframe\">\n",
       "<caption>A data.frame: 12 × 2</caption>\n",
       "<thead>\n",
       "\t<tr><th></th><th scope=col>total_of_missing</th><th scope=col>percent</th></tr>\n",
       "\t<tr><th></th><th scope=col>&lt;dbl&gt;</th><th scope=col>&lt;dbl&gt;</th></tr>\n",
       "</thead>\n",
       "<tbody>\n",
       "\t<tr><th scope=row>PassengerId</th><td>  0</td><td> 0.000</td></tr>\n",
       "\t<tr><th scope=row>Survived</th><td>  0</td><td> 0.000</td></tr>\n",
       "\t<tr><th scope=row>Pclass</th><td>  0</td><td> 0.000</td></tr>\n",
       "\t<tr><th scope=row>Name</th><td>  0</td><td> 0.000</td></tr>\n",
       "\t<tr><th scope=row>Sex</th><td>  0</td><td> 0.000</td></tr>\n",
       "\t<tr><th scope=row>Age</th><td>  0</td><td> 0.000</td></tr>\n",
       "\t<tr><th scope=row>SibSp</th><td>  0</td><td> 0.000</td></tr>\n",
       "\t<tr><th scope=row>Parch</th><td>  0</td><td> 0.000</td></tr>\n",
       "\t<tr><th scope=row>Ticket</th><td>  0</td><td> 0.000</td></tr>\n",
       "\t<tr><th scope=row>Fare</th><td>  0</td><td> 0.000</td></tr>\n",
       "\t<tr><th scope=row>Cabin</th><td>135</td><td>75.419</td></tr>\n",
       "\t<tr><th scope=row>Embarked</th><td>  1</td><td> 0.559</td></tr>\n",
       "</tbody>\n",
       "</table>\n"
      ],
      "text/latex": [
       "A data.frame: 12 × 2\n",
       "\\begin{tabular}{r|ll}\n",
       "  & total\\_of\\_missing & percent\\\\\n",
       "  & <dbl> & <dbl>\\\\\n",
       "\\hline\n",
       "\tPassengerId &   0 &  0.000\\\\\n",
       "\tSurvived &   0 &  0.000\\\\\n",
       "\tPclass &   0 &  0.000\\\\\n",
       "\tName &   0 &  0.000\\\\\n",
       "\tSex &   0 &  0.000\\\\\n",
       "\tAge &   0 &  0.000\\\\\n",
       "\tSibSp &   0 &  0.000\\\\\n",
       "\tParch &   0 &  0.000\\\\\n",
       "\tTicket &   0 &  0.000\\\\\n",
       "\tFare &   0 &  0.000\\\\\n",
       "\tCabin & 135 & 75.419\\\\\n",
       "\tEmbarked &   1 &  0.559\\\\\n",
       "\\end{tabular}\n"
      ],
      "text/markdown": [
       "\n",
       "A data.frame: 12 × 2\n",
       "\n",
       "| <!--/--> | total_of_missing &lt;dbl&gt; | percent &lt;dbl&gt; |\n",
       "|---|---|---|\n",
       "| PassengerId |   0 |  0.000 |\n",
       "| Survived |   0 |  0.000 |\n",
       "| Pclass |   0 |  0.000 |\n",
       "| Name |   0 |  0.000 |\n",
       "| Sex |   0 |  0.000 |\n",
       "| Age |   0 |  0.000 |\n",
       "| SibSp |   0 |  0.000 |\n",
       "| Parch |   0 |  0.000 |\n",
       "| Ticket |   0 |  0.000 |\n",
       "| Fare |   0 |  0.000 |\n",
       "| Cabin | 135 | 75.419 |\n",
       "| Embarked |   1 |  0.559 |\n",
       "\n"
      ],
      "text/plain": [
       "            total_of_missing percent\n",
       "PassengerId   0               0.000 \n",
       "Survived      0               0.000 \n",
       "Pclass        0               0.000 \n",
       "Name          0               0.000 \n",
       "Sex           0               0.000 \n",
       "Age           0               0.000 \n",
       "SibSp         0               0.000 \n",
       "Parch         0               0.000 \n",
       "Ticket        0               0.000 \n",
       "Fare          0               0.000 \n",
       "Cabin       135              75.419 \n",
       "Embarked      1               0.559 "
      ]
     },
     "metadata": {},
     "output_type": "display_data"
    }
   ],
   "source": [
    "# Check missing values in each column.\n",
    "check.nan(cleaned_validation_df)"
   ]
  },
  {
   "cell_type": "code",
   "execution_count": 26,
   "id": "16c58acb",
   "metadata": {
    "vscode": {
     "languageId": "r"
    }
   },
   "outputs": [
    {
     "data": {
      "text/html": [
       "<table class=\"dataframe\">\n",
       "<caption>A data.frame: 11 × 2</caption>\n",
       "<thead>\n",
       "\t<tr><th></th><th scope=col>total_of_missing</th><th scope=col>percent</th></tr>\n",
       "\t<tr><th></th><th scope=col>&lt;dbl&gt;</th><th scope=col>&lt;dbl&gt;</th></tr>\n",
       "</thead>\n",
       "<tbody>\n",
       "\t<tr><th scope=row>PassengerId</th><td>  0</td><td> 0.000</td></tr>\n",
       "\t<tr><th scope=row>Pclass</th><td>  0</td><td> 0.000</td></tr>\n",
       "\t<tr><th scope=row>Name</th><td>  0</td><td> 0.000</td></tr>\n",
       "\t<tr><th scope=row>Sex</th><td>  0</td><td> 0.000</td></tr>\n",
       "\t<tr><th scope=row>Age</th><td>  0</td><td> 0.000</td></tr>\n",
       "\t<tr><th scope=row>SibSp</th><td>  0</td><td> 0.000</td></tr>\n",
       "\t<tr><th scope=row>Parch</th><td>  0</td><td> 0.000</td></tr>\n",
       "\t<tr><th scope=row>Ticket</th><td>  0</td><td> 0.000</td></tr>\n",
       "\t<tr><th scope=row>Fare</th><td>  1</td><td> 0.239</td></tr>\n",
       "\t<tr><th scope=row>Cabin</th><td>327</td><td>78.230</td></tr>\n",
       "\t<tr><th scope=row>Embarked</th><td>  0</td><td> 0.000</td></tr>\n",
       "</tbody>\n",
       "</table>\n"
      ],
      "text/latex": [
       "A data.frame: 11 × 2\n",
       "\\begin{tabular}{r|ll}\n",
       "  & total\\_of\\_missing & percent\\\\\n",
       "  & <dbl> & <dbl>\\\\\n",
       "\\hline\n",
       "\tPassengerId &   0 &  0.000\\\\\n",
       "\tPclass &   0 &  0.000\\\\\n",
       "\tName &   0 &  0.000\\\\\n",
       "\tSex &   0 &  0.000\\\\\n",
       "\tAge &   0 &  0.000\\\\\n",
       "\tSibSp &   0 &  0.000\\\\\n",
       "\tParch &   0 &  0.000\\\\\n",
       "\tTicket &   0 &  0.000\\\\\n",
       "\tFare &   1 &  0.239\\\\\n",
       "\tCabin & 327 & 78.230\\\\\n",
       "\tEmbarked &   0 &  0.000\\\\\n",
       "\\end{tabular}\n"
      ],
      "text/markdown": [
       "\n",
       "A data.frame: 11 × 2\n",
       "\n",
       "| <!--/--> | total_of_missing &lt;dbl&gt; | percent &lt;dbl&gt; |\n",
       "|---|---|---|\n",
       "| PassengerId |   0 |  0.000 |\n",
       "| Pclass |   0 |  0.000 |\n",
       "| Name |   0 |  0.000 |\n",
       "| Sex |   0 |  0.000 |\n",
       "| Age |   0 |  0.000 |\n",
       "| SibSp |   0 |  0.000 |\n",
       "| Parch |   0 |  0.000 |\n",
       "| Ticket |   0 |  0.000 |\n",
       "| Fare |   1 |  0.239 |\n",
       "| Cabin | 327 | 78.230 |\n",
       "| Embarked |   0 |  0.000 |\n",
       "\n"
      ],
      "text/plain": [
       "            total_of_missing percent\n",
       "PassengerId   0               0.000 \n",
       "Pclass        0               0.000 \n",
       "Name          0               0.000 \n",
       "Sex           0               0.000 \n",
       "Age           0               0.000 \n",
       "SibSp         0               0.000 \n",
       "Parch         0               0.000 \n",
       "Ticket        0               0.000 \n",
       "Fare          1               0.239 \n",
       "Cabin       327              78.230 \n",
       "Embarked      0               0.000 "
      ]
     },
     "metadata": {},
     "output_type": "display_data"
    }
   ],
   "source": [
    "# Check missing values in each column.\n",
    "check.nan(cleaned_test_df)"
   ]
  },
  {
   "cell_type": "markdown",
   "id": "6da2826b",
   "metadata": {},
   "source": [
    "**Cabin**"
   ]
  },
  {
   "cell_type": "markdown",
   "id": "cb719e35",
   "metadata": {},
   "source": [
    "From the dataframe and bar chart, it shows that Cabin has the highest percentage of missing values of 77% of data which is missing so\n",
    "for now i will drop it from the data."
   ]
  },
  {
   "cell_type": "code",
   "execution_count": 27,
   "id": "da7dfd8c",
   "metadata": {
    "vscode": {
     "languageId": "r"
    }
   },
   "outputs": [],
   "source": [
    "cleaned_training_df <- cleaned_training_df %>% select(-Cabin)\n",
    "cleaned_validation_df <- cleaned_validation_df %>% select(-Cabin)\n",
    "cleaned_test_df <- cleaned_test_df %>% select(-Cabin)"
   ]
  },
  {
   "cell_type": "markdown",
   "id": "6ba27cbc",
   "metadata": {},
   "source": [
    "**Embarked**"
   ]
  },
  {
   "cell_type": "markdown",
   "id": "60a12d5e",
   "metadata": {},
   "source": [
    "There is some missing values in embarked in training data and validation data which i fill with mode."
   ]
  },
  {
   "cell_type": "code",
   "execution_count": 28,
   "id": "3a236356",
   "metadata": {
    "vscode": {
     "languageId": "r"
    }
   },
   "outputs": [],
   "source": [
    "# Fill the missing values in embarked with mode 'most frequent value'.\n",
    "cleaned_training_df <- cleaned_training_df %>% \n",
    "        replace_na(list(Embarked=most_frequent_value(cleaned_training_df, \"Embarked\")))\n",
    "\n",
    "cleaned_validation_df <- cleaned_validation_df %>% \n",
    "        replace_na(list(Embarked=most_frequent_value(cleaned_validation_df, \"Embarked\")))"
   ]
  },
  {
   "cell_type": "code",
   "execution_count": 30,
   "id": "59767ce0",
   "metadata": {
    "vscode": {
     "languageId": "r"
    }
   },
   "outputs": [
    {
     "data": {
      "text/html": [
       "<table class=\"dataframe\">\n",
       "<caption>A data.frame: 11 × 2</caption>\n",
       "<thead>\n",
       "\t<tr><th></th><th scope=col>total_of_missing</th><th scope=col>percent</th></tr>\n",
       "\t<tr><th></th><th scope=col>&lt;dbl&gt;</th><th scope=col>&lt;dbl&gt;</th></tr>\n",
       "</thead>\n",
       "<tbody>\n",
       "\t<tr><th scope=row>PassengerId</th><td>0</td><td>0</td></tr>\n",
       "\t<tr><th scope=row>Survived</th><td>0</td><td>0</td></tr>\n",
       "\t<tr><th scope=row>Pclass</th><td>0</td><td>0</td></tr>\n",
       "\t<tr><th scope=row>Name</th><td>0</td><td>0</td></tr>\n",
       "\t<tr><th scope=row>Sex</th><td>0</td><td>0</td></tr>\n",
       "\t<tr><th scope=row>Age</th><td>0</td><td>0</td></tr>\n",
       "\t<tr><th scope=row>SibSp</th><td>0</td><td>0</td></tr>\n",
       "\t<tr><th scope=row>Parch</th><td>0</td><td>0</td></tr>\n",
       "\t<tr><th scope=row>Ticket</th><td>0</td><td>0</td></tr>\n",
       "\t<tr><th scope=row>Fare</th><td>0</td><td>0</td></tr>\n",
       "\t<tr><th scope=row>Embarked</th><td>0</td><td>0</td></tr>\n",
       "</tbody>\n",
       "</table>\n"
      ],
      "text/latex": [
       "A data.frame: 11 × 2\n",
       "\\begin{tabular}{r|ll}\n",
       "  & total\\_of\\_missing & percent\\\\\n",
       "  & <dbl> & <dbl>\\\\\n",
       "\\hline\n",
       "\tPassengerId & 0 & 0\\\\\n",
       "\tSurvived & 0 & 0\\\\\n",
       "\tPclass & 0 & 0\\\\\n",
       "\tName & 0 & 0\\\\\n",
       "\tSex & 0 & 0\\\\\n",
       "\tAge & 0 & 0\\\\\n",
       "\tSibSp & 0 & 0\\\\\n",
       "\tParch & 0 & 0\\\\\n",
       "\tTicket & 0 & 0\\\\\n",
       "\tFare & 0 & 0\\\\\n",
       "\tEmbarked & 0 & 0\\\\\n",
       "\\end{tabular}\n"
      ],
      "text/markdown": [
       "\n",
       "A data.frame: 11 × 2\n",
       "\n",
       "| <!--/--> | total_of_missing &lt;dbl&gt; | percent &lt;dbl&gt; |\n",
       "|---|---|---|\n",
       "| PassengerId | 0 | 0 |\n",
       "| Survived | 0 | 0 |\n",
       "| Pclass | 0 | 0 |\n",
       "| Name | 0 | 0 |\n",
       "| Sex | 0 | 0 |\n",
       "| Age | 0 | 0 |\n",
       "| SibSp | 0 | 0 |\n",
       "| Parch | 0 | 0 |\n",
       "| Ticket | 0 | 0 |\n",
       "| Fare | 0 | 0 |\n",
       "| Embarked | 0 | 0 |\n",
       "\n"
      ],
      "text/plain": [
       "            total_of_missing percent\n",
       "PassengerId 0                0      \n",
       "Survived    0                0      \n",
       "Pclass      0                0      \n",
       "Name        0                0      \n",
       "Sex         0                0      \n",
       "Age         0                0      \n",
       "SibSp       0                0      \n",
       "Parch       0                0      \n",
       "Ticket      0                0      \n",
       "Fare        0                0      \n",
       "Embarked    0                0      "
      ]
     },
     "metadata": {},
     "output_type": "display_data"
    }
   ],
   "source": [
    "# Check missing values in each column.\n",
    "check.nan(cleaned_training_df)"
   ]
  },
  {
   "cell_type": "code",
   "execution_count": 31,
   "id": "372a9f61",
   "metadata": {
    "vscode": {
     "languageId": "r"
    }
   },
   "outputs": [
    {
     "data": {
      "text/html": [
       "<table class=\"dataframe\">\n",
       "<caption>A data.frame: 11 × 2</caption>\n",
       "<thead>\n",
       "\t<tr><th></th><th scope=col>total_of_missing</th><th scope=col>percent</th></tr>\n",
       "\t<tr><th></th><th scope=col>&lt;dbl&gt;</th><th scope=col>&lt;dbl&gt;</th></tr>\n",
       "</thead>\n",
       "<tbody>\n",
       "\t<tr><th scope=row>PassengerId</th><td>0</td><td>0</td></tr>\n",
       "\t<tr><th scope=row>Survived</th><td>0</td><td>0</td></tr>\n",
       "\t<tr><th scope=row>Pclass</th><td>0</td><td>0</td></tr>\n",
       "\t<tr><th scope=row>Name</th><td>0</td><td>0</td></tr>\n",
       "\t<tr><th scope=row>Sex</th><td>0</td><td>0</td></tr>\n",
       "\t<tr><th scope=row>Age</th><td>0</td><td>0</td></tr>\n",
       "\t<tr><th scope=row>SibSp</th><td>0</td><td>0</td></tr>\n",
       "\t<tr><th scope=row>Parch</th><td>0</td><td>0</td></tr>\n",
       "\t<tr><th scope=row>Ticket</th><td>0</td><td>0</td></tr>\n",
       "\t<tr><th scope=row>Fare</th><td>0</td><td>0</td></tr>\n",
       "\t<tr><th scope=row>Embarked</th><td>0</td><td>0</td></tr>\n",
       "</tbody>\n",
       "</table>\n"
      ],
      "text/latex": [
       "A data.frame: 11 × 2\n",
       "\\begin{tabular}{r|ll}\n",
       "  & total\\_of\\_missing & percent\\\\\n",
       "  & <dbl> & <dbl>\\\\\n",
       "\\hline\n",
       "\tPassengerId & 0 & 0\\\\\n",
       "\tSurvived & 0 & 0\\\\\n",
       "\tPclass & 0 & 0\\\\\n",
       "\tName & 0 & 0\\\\\n",
       "\tSex & 0 & 0\\\\\n",
       "\tAge & 0 & 0\\\\\n",
       "\tSibSp & 0 & 0\\\\\n",
       "\tParch & 0 & 0\\\\\n",
       "\tTicket & 0 & 0\\\\\n",
       "\tFare & 0 & 0\\\\\n",
       "\tEmbarked & 0 & 0\\\\\n",
       "\\end{tabular}\n"
      ],
      "text/markdown": [
       "\n",
       "A data.frame: 11 × 2\n",
       "\n",
       "| <!--/--> | total_of_missing &lt;dbl&gt; | percent &lt;dbl&gt; |\n",
       "|---|---|---|\n",
       "| PassengerId | 0 | 0 |\n",
       "| Survived | 0 | 0 |\n",
       "| Pclass | 0 | 0 |\n",
       "| Name | 0 | 0 |\n",
       "| Sex | 0 | 0 |\n",
       "| Age | 0 | 0 |\n",
       "| SibSp | 0 | 0 |\n",
       "| Parch | 0 | 0 |\n",
       "| Ticket | 0 | 0 |\n",
       "| Fare | 0 | 0 |\n",
       "| Embarked | 0 | 0 |\n",
       "\n"
      ],
      "text/plain": [
       "            total_of_missing percent\n",
       "PassengerId 0                0      \n",
       "Survived    0                0      \n",
       "Pclass      0                0      \n",
       "Name        0                0      \n",
       "Sex         0                0      \n",
       "Age         0                0      \n",
       "SibSp       0                0      \n",
       "Parch       0                0      \n",
       "Ticket      0                0      \n",
       "Fare        0                0      \n",
       "Embarked    0                0      "
      ]
     },
     "metadata": {},
     "output_type": "display_data"
    }
   ],
   "source": [
    "# Check missing values in each column.\n",
    "check.nan(cleaned_validation_df)"
   ]
  },
  {
   "cell_type": "markdown",
   "id": "fe0240ad",
   "metadata": {},
   "source": [
    "**Fare**"
   ]
  },
  {
   "cell_type": "markdown",
   "id": "8a2017f5",
   "metadata": {},
   "source": [
    "Some missing value in test data in fare of 2%."
   ]
  },
  {
   "cell_type": "code",
   "execution_count": 32,
   "id": "19eca06b",
   "metadata": {
    "vscode": {
     "languageId": "r"
    }
   },
   "outputs": [],
   "source": [
    "# Fill the missing values in embarked with mode 'most frequent value'.\n",
    "cleaned_test_df <- cleaned_test_df %>% \n",
    "        replace_na(list(Fare=most_frequent_value(cleaned_test_df, \"Fare\")))"
   ]
  },
  {
   "cell_type": "code",
   "execution_count": 33,
   "id": "03e8077e",
   "metadata": {
    "vscode": {
     "languageId": "r"
    }
   },
   "outputs": [
    {
     "data": {
      "text/html": [
       "<table class=\"dataframe\">\n",
       "<caption>A data.frame: 10 × 2</caption>\n",
       "<thead>\n",
       "\t<tr><th></th><th scope=col>total_of_missing</th><th scope=col>percent</th></tr>\n",
       "\t<tr><th></th><th scope=col>&lt;dbl&gt;</th><th scope=col>&lt;dbl&gt;</th></tr>\n",
       "</thead>\n",
       "<tbody>\n",
       "\t<tr><th scope=row>PassengerId</th><td>0</td><td>0</td></tr>\n",
       "\t<tr><th scope=row>Pclass</th><td>0</td><td>0</td></tr>\n",
       "\t<tr><th scope=row>Name</th><td>0</td><td>0</td></tr>\n",
       "\t<tr><th scope=row>Sex</th><td>0</td><td>0</td></tr>\n",
       "\t<tr><th scope=row>Age</th><td>0</td><td>0</td></tr>\n",
       "\t<tr><th scope=row>SibSp</th><td>0</td><td>0</td></tr>\n",
       "\t<tr><th scope=row>Parch</th><td>0</td><td>0</td></tr>\n",
       "\t<tr><th scope=row>Ticket</th><td>0</td><td>0</td></tr>\n",
       "\t<tr><th scope=row>Fare</th><td>0</td><td>0</td></tr>\n",
       "\t<tr><th scope=row>Embarked</th><td>0</td><td>0</td></tr>\n",
       "</tbody>\n",
       "</table>\n"
      ],
      "text/latex": [
       "A data.frame: 10 × 2\n",
       "\\begin{tabular}{r|ll}\n",
       "  & total\\_of\\_missing & percent\\\\\n",
       "  & <dbl> & <dbl>\\\\\n",
       "\\hline\n",
       "\tPassengerId & 0 & 0\\\\\n",
       "\tPclass & 0 & 0\\\\\n",
       "\tName & 0 & 0\\\\\n",
       "\tSex & 0 & 0\\\\\n",
       "\tAge & 0 & 0\\\\\n",
       "\tSibSp & 0 & 0\\\\\n",
       "\tParch & 0 & 0\\\\\n",
       "\tTicket & 0 & 0\\\\\n",
       "\tFare & 0 & 0\\\\\n",
       "\tEmbarked & 0 & 0\\\\\n",
       "\\end{tabular}\n"
      ],
      "text/markdown": [
       "\n",
       "A data.frame: 10 × 2\n",
       "\n",
       "| <!--/--> | total_of_missing &lt;dbl&gt; | percent &lt;dbl&gt; |\n",
       "|---|---|---|\n",
       "| PassengerId | 0 | 0 |\n",
       "| Pclass | 0 | 0 |\n",
       "| Name | 0 | 0 |\n",
       "| Sex | 0 | 0 |\n",
       "| Age | 0 | 0 |\n",
       "| SibSp | 0 | 0 |\n",
       "| Parch | 0 | 0 |\n",
       "| Ticket | 0 | 0 |\n",
       "| Fare | 0 | 0 |\n",
       "| Embarked | 0 | 0 |\n",
       "\n"
      ],
      "text/plain": [
       "            total_of_missing percent\n",
       "PassengerId 0                0      \n",
       "Pclass      0                0      \n",
       "Name        0                0      \n",
       "Sex         0                0      \n",
       "Age         0                0      \n",
       "SibSp       0                0      \n",
       "Parch       0                0      \n",
       "Ticket      0                0      \n",
       "Fare        0                0      \n",
       "Embarked    0                0      "
      ]
     },
     "metadata": {},
     "output_type": "display_data"
    }
   ],
   "source": [
    "# Check missing values in each column.\n",
    "check.nan(cleaned_test_df)"
   ]
  },
  {
   "cell_type": "code",
   "execution_count": null,
   "id": "f683c6c0",
   "metadata": {
    "vscode": {
     "languageId": "r"
    }
   },
   "outputs": [],
   "source": []
  }
 ],
 "metadata": {
  "kernelspec": {
   "display_name": "R",
   "language": "R",
   "name": "ir"
  },
  "language_info": {
   "codemirror_mode": "r",
   "file_extension": ".r",
   "mimetype": "text/x-r-source",
   "name": "R",
   "pygments_lexer": "r",
   "version": "4.2.0"
  },
  "vscode": {
   "interpreter": {
    "hash": "9a15acae7e5f8190689aaae7e030cc8bb6b8f209e008a85cb6449701ba2795c7"
   }
  }
 },
 "nbformat": 4,
 "nbformat_minor": 5
}
