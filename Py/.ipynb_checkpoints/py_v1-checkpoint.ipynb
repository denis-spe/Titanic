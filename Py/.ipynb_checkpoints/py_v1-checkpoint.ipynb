{
 "cells": [
  {
   "cell_type": "markdown",
   "id": "f8b3393e",
   "metadata": {},
   "source": [
    "# **Predicting Passenger Survivor**\n",
    "****"
   ]
  },
  {
   "cell_type": "markdown",
   "id": "d8a7a50e",
   "metadata": {},
   "source": [
    "**Table content**\n",
    "* **About Data**\n",
    "* **Import Libraries**\n",
    "* **load Datasets**\n",
    "* **Explorer Datasets**\n",
    "* **Data Split**\n",
    "* **Data Cleaning**\n",
    "* **Data Visualization**\n",
    "* **Choose Model**\n",
    "* **Fit Models**\n",
    "* **Evaluate Model**\n",
    "* **Fine The Model**"
   ]
  },
  {
   "cell_type": "markdown",
   "id": "0dc96fc5",
   "metadata": {},
   "source": [
    "## **About Data**\n",
    "RMS Titanic was a British passenger liner, operated by the White Star Line, which sank in the North Atlantic Ocean on 15 April 1912 after striking an iceberg. for more info click <a href='https://en.wikipedia.org/wiki/Titanic' style='text-decoration:none'>here</a>"
   ]
  },
  {
   "cell_type": "markdown",
   "id": "521fa9f6",
   "metadata": {},
   "source": [
    "<pre style=\"font-family: 'Brush Script MT', cursive, serif;\">\n",
    "<h3 style='font-size: 12'>Defination Of Feature Columns</h3>\n",
    "<b>Survived:</b> Passager Survived \n",
    "0 = No \n",
    "1 = Yes\n",
    "<b>Embarked:</b> Port of Embarkation \n",
    "C = Cherbourg\n",
    "Q = Queenstown\n",
    "S = Southampton\n",
    "<b>Pclass:</b> ticket class\n",
    "A proxy for socio-economic status (SES)\n",
    "1st = Upper\n",
    "2nd = Middle\n",
    "3rd = Lower\n",
    "<b>Sex:</b> passenger sex\n",
    "<b>Age:</b> Age in years\n",
    "Age is fractional if less than 1. \n",
    "If the age is estimated, is it in the form of xx.5\n",
    "<b>Sibsp:</b> of siblings / spouses aboard the Titanic\n",
    "The dataset defines family relations in this way...\n",
    "Sibling = brother, sister, stepbrother, stepsister\n",
    "Spouse = husband, wife (mistresses and fiancés were ignored)\n",
    "<b>Parch:</b> of parents / children aboard the Titanic.\n",
    "The dataset defines family relations in this way...\n",
    "Parent = mother, father\n",
    "Child = daughter, son, stepdaughter, stepson\n",
    "Some children travelled only with a nanny, therefore parch=0 for them.\n",
    "<b>Ticket:</b> ticket number\n",
    "<b>Fare:</b> fare paid for a ticket\n",
    "<b>cabin:</b> Cabin number\n",
    "</pre>"
   ]
  },
  {
   "cell_type": "markdown",
   "id": "321f1b0c",
   "metadata": {},
   "source": [
    "## **Import Libraries**"
   ]
  },
  {
   "cell_type": "code",
   "execution_count": null,
   "id": "38278f49",
   "metadata": {},
   "outputs": [],
   "source": [
    "!pip install numpy pandas matplotlib seaborn sklearn xgboost lightgbm"
   ]
  },
  {
   "cell_type": "code",
   "execution_count": 1,
   "id": "85861a6d",
   "metadata": {},
   "outputs": [
    {
     "ename": "ModuleNotFoundError",
     "evalue": "No module named 'numpy'",
     "output_type": "error",
     "traceback": [
      "\u001b[1;31m---------------------------------------------------------------------------\u001b[0m",
      "\u001b[1;31mModuleNotFoundError\u001b[0m                       Traceback (most recent call last)",
      "Input \u001b[1;32mIn [1]\u001b[0m, in \u001b[0;36m<cell line: 4>\u001b[1;34m()\u001b[0m\n\u001b[0;32m      2\u001b[0m \u001b[38;5;28;01mfrom\u001b[39;00m \u001b[38;5;21;01mtyping\u001b[39;00m \u001b[38;5;28;01mimport\u001b[39;00m List, Tuple\n\u001b[0;32m      3\u001b[0m \u001b[38;5;66;03m# Data manipulation tools\u001b[39;00m\n\u001b[1;32m----> 4\u001b[0m \u001b[38;5;28;01mimport\u001b[39;00m \u001b[38;5;21;01mnumpy\u001b[39;00m \u001b[38;5;28;01mas\u001b[39;00m \u001b[38;5;21;01mnp\u001b[39;00m\n\u001b[0;32m      5\u001b[0m \u001b[38;5;28;01mimport\u001b[39;00m \u001b[38;5;21;01mpandas\u001b[39;00m \u001b[38;5;28;01mas\u001b[39;00m \u001b[38;5;21;01mpd\u001b[39;00m\n\u001b[0;32m      6\u001b[0m \u001b[38;5;66;03m# Data Visualization\u001b[39;00m\n",
      "\u001b[1;31mModuleNotFoundError\u001b[0m: No module named 'numpy'"
     ]
    }
   ],
   "source": [
    "import os, warnings\n",
    "from typing import List, Tuple\n",
    "# Data manipulation tools\n",
    "import numpy as np\n",
    "import pandas as pd\n",
    "# Data Visualization\n",
    "import matplotlib.pyplot as plt\n",
    "import seaborn as sns\n",
    "# Data split into train and validation\n",
    "from sklearn.model_selection import (\n",
    "    train_test_split, \n",
    "    cross_val_score, \n",
    "    cross_val_predict, \n",
    "    GridSearchCV, \n",
    "    GroupKFold, \n",
    "    RandomizedSearchCV)\n",
    "\n",
    "# Data Imputation tool\n",
    "from sklearn.impute import KNNImputer, SimpleImputer, MissingIndicator\n",
    "\n",
    "# Machine learning model\n",
    "from sklearn.linear_model import LogisticRegression, RidgeClassifier\n",
    "from sklearn.ensemble import (\n",
    "    AdaBoostClassifier, \n",
    "    BaggingClassifier, \n",
    "    ExtraTreesClassifier, \n",
    "    GradientBoostingClassifier, \n",
    "    RandomForestClassifier,\n",
    "    StackingClassifier,\n",
    "    VotingClassifier,\n",
    "    )\n",
    "from sklearn.neighbors import KNeighborsClassifier\n",
    "from sklearn.naive_bayes import GaussianNB \n",
    "from sklearn.neural_network import MLPClassifier\n",
    "from sklearn.discriminant_analysis import LinearDiscriminantAnalysis\n",
    "from sklearn.svm import LinearSVC, SVC\n",
    "from sklearn.tree import DecisionTreeClassifier\n",
    "\n",
    "# Model evalution tools \n",
    "from sklearn.metrics import (\n",
    "    accuracy_score, \n",
    "    classification_report, \n",
    "    confusion_matrix, f1_score, \n",
    "    plot_confusion_matrix, \n",
    "    plot_roc_curve,\n",
    "    auc,\n",
    "    r2_score,\n",
    "    recall_score,\n",
    "\n",
    "    )"
   ]
  },
  {
   "cell_type": "markdown",
   "id": "4bbbce02",
   "metadata": {},
   "source": [
    "## **Setting Notebook**"
   ]
  },
  {
   "cell_type": "code",
   "execution_count": null,
   "id": "16ede83a",
   "metadata": {},
   "outputs": [],
   "source": [
    "plt.rc(\"figure\", autolayout=True, figsize=(5, 6))\n",
    "plt.rc(\"axes\", titlesize=12, titleweight=30, labelsize=10, labelweight=20)\n"
   ]
  },
  {
   "cell_type": "markdown",
   "id": "693e29d8",
   "metadata": {},
   "source": [
    "## **Load Datasets**"
   ]
  },
  {
   "cell_type": "code",
   "execution_count": null,
   "id": "22f8a989",
   "metadata": {},
   "outputs": [],
   "source": [
    "def load_data(train_path: str, test_path: str, index_col: str=None) -> Tuple[pd.DataFrame]:\n",
    "    \"\"\"\n",
    "    Loads data path into pandas dataframe and return a \n",
    "    list of dataframe\n",
    "    Args:\n",
    "        train_path (str): train data path to load in the pandas dataframe\n",
    "        test_path (str): test data path to load in the pandas dataframe\n",
    "        index_col (str, optional): column name to use as index column. Defaults to None.\n",
    "\n",
    "    Returns:\n",
    "        Tuple[pd.DataFrame]: Two dataframe in the tuple\n",
    "    \"\"\"\n",
    "    # Instantiate the train dataframe\n",
    "    train_df = pd.read_csv(train_path, index_col=index_col)\n",
    "\n",
    "    # Instantiate the test dataframe\n",
    "    test_df = pd.read_csv(test_path, index_col=index_col)\n",
    "\n",
    "    return train_df, test_df"
   ]
  },
  {
   "cell_type": "code",
   "execution_count": null,
   "id": "c2d0cb8b",
   "metadata": {},
   "outputs": [],
   "source": [
    "try:\n",
    "    # trying to use this local path\n",
    "    local_train_path = \"../datasets/train.csv\"\n",
    "    local_test_path = \"../datasets/test.csv\"\n",
    "    # Initialize the list of dataset to: datasets\n",
    "    datasets = load_data(local_train_path, local_test_path, \"PassengerId\")\n",
    "\n",
    "    # Assign train and test dataframe\n",
    "    train_df, test_df = datasets\n",
    "    \n",
    "except:\n",
    "    pass"
   ]
  },
  {
   "cell_type": "markdown",
   "id": "6075d4bb",
   "metadata": {},
   "source": [
    "# **Explorer Datasets**"
   ]
  },
  {
   "cell_type": "markdown",
   "id": "946a58b5",
   "metadata": {},
   "source": [
    "### **Train And Test Dataframe**"
   ]
  },
  {
   "cell_type": "markdown",
   "id": "b6f91a1e",
   "metadata": {},
   "source": [
    "#### **Train**"
   ]
  },
  {
   "cell_type": "code",
   "execution_count": null,
   "id": "04dc237b",
   "metadata": {},
   "outputs": [],
   "source": [
    "# Check out the first five row in train dataframe\n",
    "train_df.head()\n"
   ]
  },
  {
   "cell_type": "markdown",
   "id": "6ad654a5",
   "metadata": {},
   "source": [
    "#### **Test**"
   ]
  },
  {
   "cell_type": "code",
   "execution_count": null,
   "id": "63481c70",
   "metadata": {},
   "outputs": [],
   "source": [
    "# And Five from test dataframe\n",
    "test_df.head()"
   ]
  },
  {
   "cell_type": "markdown",
   "id": "15f8f3ab",
   "metadata": {},
   "source": [
    "### **Data Information**"
   ]
  },
  {
   "cell_type": "markdown",
   "id": "df174677",
   "metadata": {},
   "source": [
    "#### **Train**"
   ]
  },
  {
   "cell_type": "code",
   "execution_count": null,
   "id": "7a69f830",
   "metadata": {},
   "outputs": [],
   "source": [
    "# View the data information\n",
    "train_df.info()"
   ]
  },
  {
   "cell_type": "markdown",
   "id": "e6061637",
   "metadata": {},
   "source": [
    "#### **Test**"
   ]
  },
  {
   "cell_type": "code",
   "execution_count": null,
   "id": "8481bb6a",
   "metadata": {},
   "outputs": [],
   "source": [
    "# View the data information\n",
    "test_df.info()"
   ]
  },
  {
   "cell_type": "markdown",
   "id": "9b543250",
   "metadata": {},
   "source": [
    "### **Data Description**"
   ]
  },
  {
   "cell_type": "markdown",
   "id": "c34b104c",
   "metadata": {},
   "source": [
    "#### **Train**"
   ]
  },
  {
   "cell_type": "code",
   "execution_count": null,
   "id": "9e8eed63",
   "metadata": {},
   "outputs": [],
   "source": [
    "# Data summary analysis\n",
    "train_df.describe(include=\"all\").T"
   ]
  },
  {
   "cell_type": "markdown",
   "id": "a796cc69",
   "metadata": {},
   "source": [
    "#### **Test**"
   ]
  },
  {
   "cell_type": "code",
   "execution_count": null,
   "id": "17f5cde9",
   "metadata": {},
   "outputs": [],
   "source": [
    "# Data summary analysis\n",
    "test_df.describe(include=\"all\").T"
   ]
  },
  {
   "cell_type": "markdown",
   "id": "5e41d31f",
   "metadata": {},
   "source": [
    "## **Split Data**"
   ]
  },
  {
   "cell_type": "markdown",
   "id": "4847100a",
   "metadata": {},
   "source": [
    "*Seperate predictive feature from the target variable*"
   ]
  },
  {
   "cell_type": "code",
   "execution_count": null,
   "id": "111db64e",
   "metadata": {},
   "outputs": [],
   "source": [
    "X = train_df.drop(\"Survived\", axis=\"columns\")\n",
    "y = train_df[\"Survived\"]"
   ]
  },
  {
   "cell_type": "code",
   "execution_count": null,
   "id": "08587750",
   "metadata": {},
   "outputs": [],
   "source": [
    "print(f\"X shape: {X.shape}\")\n",
    "print(f\"y shape: {y.shape}\")"
   ]
  },
  {
   "cell_type": "markdown",
   "id": "59d7a547",
   "metadata": {},
   "source": [
    "*Split dataset into train and validation dataset*"
   ]
  },
  {
   "cell_type": "code",
   "execution_count": null,
   "id": "327c0268",
   "metadata": {},
   "outputs": [],
   "source": [
    "train_X, valid_X, train_y, valid_y = train_test_split(X, y, train_size=.80)"
   ]
  },
  {
   "cell_type": "code",
   "execution_count": null,
   "id": "66699cba",
   "metadata": {},
   "outputs": [],
   "source": [
    "print(f\"train_X shape: {train_X.shape}\")\n",
    "print(f\"train_y shape: {train_y.shape}\")\n",
    "print(f\"valid_X shape: {valid_X.shape}\")\n",
    "print(f\"valid_y shape: {valid_y.shape}\")"
   ]
  },
  {
   "cell_type": "markdown",
   "id": "fbdc2eae",
   "metadata": {},
   "source": [
    "## **Data Cleaning**"
   ]
  },
  {
   "cell_type": "markdown",
   "id": "835d6ac6",
   "metadata": {},
   "source": [
    "### **Checking For Missing Value(NaN)**"
   ]
  },
  {
   "cell_type": "code",
   "execution_count": null,
   "id": "2ad9e2f4",
   "metadata": {},
   "outputs": [],
   "source": [
    "def check_nan(data: pd.DataFrame) -> pd.DataFrame:\n",
    "    \"\"\"\n",
    "    Check missing values or NaN in \n",
    "    the data\n",
    "    Args:\n",
    "        data (pd.DataFrame): To check if there is missing values\n",
    "\n",
    "    Returns:\n",
    "        pd.DataFrame: with column, count\n",
    "        and percentage of missing values\n",
    "    \"\"\"\n",
    "    # Get the sum of missing values in each column\n",
    "    total_nan = data.isna().sum()\n",
    "\n",
    "    # Percent of missing values in each column\n",
    "    percent = (total_nan / data.shape[0]).round(3)\n",
    "\n",
    "    # Construct a dataframe of missing values\n",
    "    check_missing_df = pd.DataFrame({\n",
    "        \"Columns\": data.columns,\n",
    "        \"TotalNaN\": total_nan,\n",
    "        \"Percent\": percent\n",
    "    }).reset_index(drop=True)\n",
    "\n",
    "    return check_missing_df\n",
    "\n",
    "\n",
    "def plot_missing_values(data: pd.DataFrame, width: int = 8, height: int = 5) -> None:\n",
    "    \"\"\"\n",
    "    Plot Missing values in data\n",
    "    Args:\n",
    "        data (pd.DataFrame): To plot columns with missing values\n",
    "        width (int, optional): figure width. Defaults to 8.\n",
    "        height (int, optional): figure height. Defaults to 5.\n",
    "    \"\"\"\n",
    "\n",
    "    # Check for missing values in the data\n",
    "    check_missing_df = check_nan(data=data)\n",
    "\n",
    "    # Initialize the figure and axes\n",
    "    fig, ax =plt.subplots(1, 1, figsize=(width, height))\n",
    "\n",
    "    # Plot a bar plot\n",
    "    barh = ax.barh(y=check_missing_df.Columns, width=check_missing_df.TotalNaN, edgecolor=\"black\", color=\"red\")\n",
    "    # Add bar labels\n",
    "    ax.bar_label(barh, padding=1.5)\n",
    "    ax.spines['right'].set_visible(False)\n",
    "    ax.spines['top'].set_visible(False)\n",
    "    ax.spines['left'].set_visible(False)\n",
    "    ax.spines['bottom'].set_visible(False)\n",
    "\n",
    "    # Remove x, y Ticks\n",
    "    ax.xaxis.set_ticks_position('none')\n",
    "    ax.yaxis.set_ticks_position('none')\n",
    "\n",
    "    # Add padding between axes and labels\n",
    "    ax.xaxis.set_tick_params(pad = 5)\n",
    "    ax.yaxis.set_tick_params(pad = 10)\n",
    "\n",
    "    # Add x, y gridlines\n",
    "    ax.grid(visible = True, color ='grey',\n",
    "        linestyle ='-.', linewidth = 0.5,\n",
    "        alpha = 0.2)\n",
    "\n",
    "    # Show top values\n",
    "    ax.invert_yaxis()\n",
    "    \n",
    "    # Add Plot Title\n",
    "    ax.set_title('Chart Shows Missing Value(NaN) In Data',\n",
    "             loc ='left', size=11)\n",
    "    \n",
    "    ax.set_xlabel(\"TotalNaN\", size=9)\n",
    "    ax.set_ylabel(\"Columns\" , size=9)\n"
   ]
  },
  {
   "cell_type": "markdown",
   "id": "beadef06",
   "metadata": {},
   "source": [
    "#### **Train**"
   ]
  },
  {
   "cell_type": "code",
   "execution_count": null,
   "id": "35faefa4",
   "metadata": {},
   "outputs": [],
   "source": [
    "# Check missing values in train data\n",
    "check_nan(train_df)"
   ]
  },
  {
   "cell_type": "code",
   "execution_count": null,
   "id": "7d5b7e38",
   "metadata": {},
   "outputs": [],
   "source": [
    "# Plot missing values in the data\n",
    "plot_missing_values(train_df)"
   ]
  },
  {
   "cell_type": "markdown",
   "id": "ec72c80b",
   "metadata": {},
   "source": [
    "#### **Test**"
   ]
  },
  {
   "cell_type": "code",
   "execution_count": null,
   "id": "7e529d2d",
   "metadata": {},
   "outputs": [],
   "source": [
    "# Check missing values in train data\n",
    "check_nan(test_df)"
   ]
  },
  {
   "cell_type": "code",
   "execution_count": null,
   "id": "a636cc14",
   "metadata": {},
   "outputs": [],
   "source": [
    "# Plot missing values in the test data\n",
    "plot_missing_values(test_df)"
   ]
  },
  {
   "cell_type": "code",
   "execution_count": null,
   "id": "9458f449",
   "metadata": {},
   "outputs": [],
   "source": []
  }
 ],
 "metadata": {
  "interpreter": {
   "hash": "8c816235cc3c86993b5fc9e2b3606307230212467c617c43699f8731737c8f37"
  },
  "kernelspec": {
   "display_name": "Python 3 (ipykernel)",
   "language": "python",
   "name": "python3"
  },
  "language_info": {
   "codemirror_mode": {
    "name": "ipython",
    "version": 3
   },
   "file_extension": ".py",
   "mimetype": "text/x-python",
   "name": "python",
   "nbconvert_exporter": "python",
   "pygments_lexer": "ipython3",
   "version": "3.9.12"
  }
 },
 "nbformat": 4,
 "nbformat_minor": 5
}
