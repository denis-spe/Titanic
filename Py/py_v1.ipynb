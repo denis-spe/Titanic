{
 "cells": [
  {
   "cell_type": "markdown",
   "id": "f8b3393e",
   "metadata": {},
   "source": [
    "# **Predicting Passenger Survivor**\n",
    "****"
   ]
  },
  {
   "cell_type": "markdown",
   "id": "d8a7a50e",
   "metadata": {},
   "source": [
    "**Table content**\n",
    "* **About Data**\n",
    "* **Import Libraries**\n",
    "* **load Datasets**\n",
    "* **Descriptiver Analysis**\n",
    "* **Data Split**\n",
    "* **Data Cleaning**\n",
    "* **Data Visualization**\n",
    "* **Choose Model**\n",
    "* **Fit Models**\n",
    "* **Evaluate Model**\n",
    "* **Fine The Model**"
   ]
  },
  {
   "cell_type": "markdown",
   "id": "0dc96fc5",
   "metadata": {},
   "source": [
    "## **About Data**\n",
    "RMS Titanic was a British passenger liner, operated by the White Star Line, which sank in the North Atlantic Ocean on 15 April 1912 after striking an iceberg. for more info click <a href='https://en.wikipedia.org/wiki/Titanic' style='text-decoration:none'>here</a>"
   ]
  },
  {
   "cell_type": "markdown",
   "id": "521fa9f6",
   "metadata": {},
   "source": [
    "<pre style=\"font-family: 'Brush Script MT', cursive, serif;\">\n",
    "<h3 style='font-size: 12'>Defination Of Feature Columns</h3>\n",
    "<b>Survived:</b> Passager Survived \n",
    "0 = No \n",
    "1 = Yes\n",
    "<b>Embarked:</b> Port of Embarkation \n",
    "C = Cherbourg\n",
    "Q = Queenstown\n",
    "S = Southampton\n",
    "<b>Pclass:</b> ticket class\n",
    "A proxy for socio-economic status (SES)\n",
    "1st = Upper\n",
    "2nd = Middle\n",
    "3rd = Lower\n",
    "<b>Sex:</b> passenger sex\n",
    "<b>Age:</b> Age in years\n",
    "Age is fractional if less than 1. \n",
    "If the age is estimated, is it in the form of xx.5\n",
    "<b>Sibsp:</b> of siblings / spouses aboard the Titanic\n",
    "The dataset defines family relations in this way...\n",
    "Sibling = brother, sister, stepbrother, stepsister\n",
    "Spouse = husband, wife (mistresses and fiancés were ignored)\n",
    "<b>Parch:</b> of parents / children aboard the Titanic.\n",
    "The dataset defines family relations in this way...\n",
    "Parent = mother, father\n",
    "Child = daughter, son, stepdaughter, stepson\n",
    "Some children travelled only with a nanny, therefore parch=0 for them.\n",
    "<b>Ticket:</b> ticket number\n",
    "<b>Fare:</b> fare paid for a ticket\n",
    "<b>cabin:</b> Cabin number\n",
    "</pre>"
   ]
  },
  {
   "cell_type": "markdown",
   "id": "321f1b0c",
   "metadata": {},
   "source": [
    "## **Import Libraries**"
   ]
  },
  {
   "cell_type": "code",
   "execution_count": 3,
   "id": "85861a6d",
   "metadata": {},
   "outputs": [],
   "source": [
    "import os, warnings\n",
    "# Data manipulation tools\n",
    "import numpy as np\n",
    "import pandas as pd\n",
    "# Data Visualization\n",
    "import matplotlib.pyplot as plt\n",
    "import seaborn as sns\n",
    "# Data split into train and validation\n",
    "from sklearn.model_selection import (\n",
    "    train_test_split, \n",
    "    cross_val_score, \n",
    "    cross_val_predict, \n",
    "    GridSearchCV, \n",
    "    GroupKFold, \n",
    "    RandomizedSearchCV)\n",
    "\n",
    "# Data Imputation tool\n",
    "from sklearn.impute import KNNImputer, SimpleImputer, MissingIndicator\n",
    "\n",
    "# Machine learning model\n",
    "from sklearn.linear_model import LogisticRegression, RidgeClassifier\n",
    "from sklearn.ensemble import (\n",
    "    AdaBoostClassifier, \n",
    "    BaggingClassifier, \n",
    "    ExtraTreesClassifier, \n",
    "    GradientBoostingClassifier, \n",
    "    RandomForestClassifier,\n",
    "    StackingClassifier,\n",
    "    VotingClassifier,\n",
    "    )\n",
    "from sklearn.neighbors import KNeighborsClassifier\n",
    "from sklearn.naive_bayes import GaussianNB \n",
    "from sklearn.neural_network import MLPClassifier\n",
    "from sklearn.discriminant_analysis import LinearDiscriminantAnalysis\n",
    "from sklearn.svm import LinearSVC, SVC\n",
    "from sklearn.tree import DecisionTreeClassifier\n",
    "\n",
    "# Model evalution tools \n",
    "from sklearn.metrics import (\n",
    "    accuracy_score, \n",
    "    classification_report, \n",
    "    confusion_matrix, f1_score, \n",
    "    plot_confusion_matrix, \n",
    "    plot_roc_curve,\n",
    "    auc,\n",
    "    r2_score,\n",
    "    recall_score,\n",
    "\n",
    "    )"
   ]
  },
  {
   "cell_type": "markdown",
   "id": "693e29d8",
   "metadata": {},
   "source": [
    "## **Load Datasets**"
   ]
  },
  {
   "cell_type": "markdown",
   "id": "6075d4bb",
   "metadata": {},
   "source": []
  }
 ],
 "metadata": {
  "kernelspec": {
   "display_name": "Python 3 (ipykernel)",
   "language": "python",
   "name": "python3"
  },
  "language_info": {
   "codemirror_mode": {
    "name": "ipython",
    "version": 3
   },
   "file_extension": ".py",
   "mimetype": "text/x-python",
   "name": "python",
   "nbconvert_exporter": "python",
   "pygments_lexer": "ipython3",
   "version": "3.9.7"
  }
 },
 "nbformat": 4,
 "nbformat_minor": 5
}
